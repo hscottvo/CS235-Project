{
 "cells": [
  {
   "cell_type": "code",
   "execution_count": 1,
   "id": "7135d1f0",
   "metadata": {},
   "outputs": [],
   "source": [
    "import pandas as pd\n",
    "import numpy as np\n",
    "from sklearn.neighbors import KNeighborsRegressor\n",
    "from sklearn.metrics import mean_squared_error\n",
    "from sklearn.metrics import mean_absolute_error\n",
    "from sklearn.decomposition import PCA\n",
    "from sklearn.preprocessing import PolynomialFeatures\n",
    "from sklearn.decomposition import NMF\n",
    "from sklearn.manifold import TSNE\n",
    "from sklearn.preprocessing import PowerTransformer"
   ]
  },
  {
   "cell_type": "code",
   "execution_count": 2,
   "id": "6141820b",
   "metadata": {},
   "outputs": [],
   "source": [
    "train_df = pd.read_csv('train.csv')\n",
    "validation_df = pd.read_csv('validation.csv')\n",
    "test_df = pd.read_csv('test.csv')"
   ]
  },
  {
   "cell_type": "code",
   "execution_count": 3,
   "id": "9fd35716",
   "metadata": {},
   "outputs": [
    {
     "name": "stdout",
     "output_type": "stream",
     "text": [
      "<class 'pandas.core.frame.DataFrame'>\n",
      "RangeIndex: 6716 entries, 0 to 6715\n",
      "Data columns (total 62 columns):\n",
      " #   Column                   Non-Null Count  Dtype  \n",
      "---  ------                   --------------  -----  \n",
      " 0   popularity               6716 non-null   float64\n",
      " 1   budget                   6716 non-null   float64\n",
      " 2   revenue                  6716 non-null   float64\n",
      " 3   runtime                  6716 non-null   float64\n",
      " 4   vote_average             6716 non-null   float64\n",
      " 5   vote_count               6716 non-null   float64\n",
      " 6   profit_margin            6716 non-null   float64\n",
      " 7   overview: life           6716 non-null   int64  \n",
      " 8   overview: new            6716 non-null   int64  \n",
      " 9   overview: young          6716 non-null   int64  \n",
      " 10  overview: world          6716 non-null   int64  \n",
      " 11  overview: man            6716 non-null   int64  \n",
      " 12  overview: family         6716 non-null   int64  \n",
      " 13  overview: love           6716 non-null   int64  \n",
      " 14  overview: woman          6716 non-null   int64  \n",
      " 15  overview: story          6716 non-null   int64  \n",
      " 16  overview: finds          6716 non-null   int64  \n",
      " 17  overview: old            6716 non-null   int64  \n",
      " 18  overview: time           6716 non-null   int64  \n",
      " 19  overview: father         6716 non-null   int64  \n",
      " 20  overview: friends        6716 non-null   int64  \n",
      " 21  overview: years          6716 non-null   int64  \n",
      " 22  overview: war            6716 non-null   int64  \n",
      " 23  overview: help           6716 non-null   int64  \n",
      " 24  overview: wife           6716 non-null   int64  \n",
      " 25  overview: town           6716 non-null   int64  \n",
      " 26  overview: school         6716 non-null   int64  \n",
      " 27  genres: Documentary      6716 non-null   int64  \n",
      " 28  genres: Romance          6716 non-null   int64  \n",
      " 29  genres: Animation        6716 non-null   int64  \n",
      " 30  genres: Family           6716 non-null   int64  \n",
      " 31  genres: Mystery          6716 non-null   int64  \n",
      " 32  genres: Adventure        6716 non-null   int64  \n",
      " 33  genres: Comedy           6716 non-null   int64  \n",
      " 34  genres: Music            6716 non-null   int64  \n",
      " 35  genres: War              6716 non-null   int64  \n",
      " 36  genres: TV Movie         6716 non-null   int64  \n",
      " 37  genres: Fantasy          6716 non-null   int64  \n",
      " 38  genres: Western          6716 non-null   int64  \n",
      " 39  genres: Action           6716 non-null   int64  \n",
      " 40  genres: Horror           6716 non-null   int64  \n",
      " 41  genres: History          6716 non-null   int64  \n",
      " 42  genres: Drama            6716 non-null   int64  \n",
      " 43  genres: Thriller         6716 non-null   int64  \n",
      " 44  genres: Science Fiction  6716 non-null   int64  \n",
      " 45  genres: Crime            6716 non-null   int64  \n",
      " 46  original_language_cn     6716 non-null   int64  \n",
      " 47  original_language_de     6716 non-null   int64  \n",
      " 48  original_language_en     6716 non-null   int64  \n",
      " 49  original_language_es     6716 non-null   int64  \n",
      " 50  original_language_fr     6716 non-null   int64  \n",
      " 51  original_language_hi     6716 non-null   int64  \n",
      " 52  original_language_it     6716 non-null   int64  \n",
      " 53  original_language_ja     6716 non-null   int64  \n",
      " 54  original_language_ko     6716 non-null   int64  \n",
      " 55  original_language_ml     6716 non-null   int64  \n",
      " 56  original_language_other  6716 non-null   int64  \n",
      " 57  original_language_ru     6716 non-null   int64  \n",
      " 58  original_language_ta     6716 non-null   int64  \n",
      " 59  original_language_te     6716 non-null   int64  \n",
      " 60  original_language_tr     6716 non-null   int64  \n",
      " 61  original_language_zh     6716 non-null   int64  \n",
      "dtypes: float64(7), int64(55)\n",
      "memory usage: 3.2 MB\n"
     ]
    }
   ],
   "source": [
    "train_df.info()"
   ]
  },
  {
   "cell_type": "code",
   "execution_count": 4,
   "id": "88d6ec55",
   "metadata": {},
   "outputs": [],
   "source": [
    "X_train = train_df.drop(columns='profit_margin')\n",
    "y_train = train_df['profit_margin']\n",
    "X_validation = validation_df.drop(columns='profit_margin')\n",
    "y_validation = validation_df['profit_margin']\n",
    "X_test = test_df.drop(columns='profit_margin')\n",
    "y_test = test_df['profit_margin']"
   ]
  },
  {
   "cell_type": "code",
   "execution_count": 5,
   "id": "fd68231e",
   "metadata": {},
   "outputs": [
    {
     "data": {
      "text/html": [
       "<style>#sk-container-id-1 {color: black;}#sk-container-id-1 pre{padding: 0;}#sk-container-id-1 div.sk-toggleable {background-color: white;}#sk-container-id-1 label.sk-toggleable__label {cursor: pointer;display: block;width: 100%;margin-bottom: 0;padding: 0.3em;box-sizing: border-box;text-align: center;}#sk-container-id-1 label.sk-toggleable__label-arrow:before {content: \"▸\";float: left;margin-right: 0.25em;color: #696969;}#sk-container-id-1 label.sk-toggleable__label-arrow:hover:before {color: black;}#sk-container-id-1 div.sk-estimator:hover label.sk-toggleable__label-arrow:before {color: black;}#sk-container-id-1 div.sk-toggleable__content {max-height: 0;max-width: 0;overflow: hidden;text-align: left;background-color: #f0f8ff;}#sk-container-id-1 div.sk-toggleable__content pre {margin: 0.2em;color: black;border-radius: 0.25em;background-color: #f0f8ff;}#sk-container-id-1 input.sk-toggleable__control:checked~div.sk-toggleable__content {max-height: 200px;max-width: 100%;overflow: auto;}#sk-container-id-1 input.sk-toggleable__control:checked~label.sk-toggleable__label-arrow:before {content: \"▾\";}#sk-container-id-1 div.sk-estimator input.sk-toggleable__control:checked~label.sk-toggleable__label {background-color: #d4ebff;}#sk-container-id-1 div.sk-label input.sk-toggleable__control:checked~label.sk-toggleable__label {background-color: #d4ebff;}#sk-container-id-1 input.sk-hidden--visually {border: 0;clip: rect(1px 1px 1px 1px);clip: rect(1px, 1px, 1px, 1px);height: 1px;margin: -1px;overflow: hidden;padding: 0;position: absolute;width: 1px;}#sk-container-id-1 div.sk-estimator {font-family: monospace;background-color: #f0f8ff;border: 1px dotted black;border-radius: 0.25em;box-sizing: border-box;margin-bottom: 0.5em;}#sk-container-id-1 div.sk-estimator:hover {background-color: #d4ebff;}#sk-container-id-1 div.sk-parallel-item::after {content: \"\";width: 100%;border-bottom: 1px solid gray;flex-grow: 1;}#sk-container-id-1 div.sk-label:hover label.sk-toggleable__label {background-color: #d4ebff;}#sk-container-id-1 div.sk-serial::before {content: \"\";position: absolute;border-left: 1px solid gray;box-sizing: border-box;top: 0;bottom: 0;left: 50%;z-index: 0;}#sk-container-id-1 div.sk-serial {display: flex;flex-direction: column;align-items: center;background-color: white;padding-right: 0.2em;padding-left: 0.2em;position: relative;}#sk-container-id-1 div.sk-item {position: relative;z-index: 1;}#sk-container-id-1 div.sk-parallel {display: flex;align-items: stretch;justify-content: center;background-color: white;position: relative;}#sk-container-id-1 div.sk-item::before, #sk-container-id-1 div.sk-parallel-item::before {content: \"\";position: absolute;border-left: 1px solid gray;box-sizing: border-box;top: 0;bottom: 0;left: 50%;z-index: -1;}#sk-container-id-1 div.sk-parallel-item {display: flex;flex-direction: column;z-index: 1;position: relative;background-color: white;}#sk-container-id-1 div.sk-parallel-item:first-child::after {align-self: flex-end;width: 50%;}#sk-container-id-1 div.sk-parallel-item:last-child::after {align-self: flex-start;width: 50%;}#sk-container-id-1 div.sk-parallel-item:only-child::after {width: 0;}#sk-container-id-1 div.sk-dashed-wrapped {border: 1px dashed gray;margin: 0 0.4em 0.5em 0.4em;box-sizing: border-box;padding-bottom: 0.4em;background-color: white;}#sk-container-id-1 div.sk-label label {font-family: monospace;font-weight: bold;display: inline-block;line-height: 1.2em;}#sk-container-id-1 div.sk-label-container {text-align: center;}#sk-container-id-1 div.sk-container {/* jupyter's `normalize.less` sets `[hidden] { display: none; }` but bootstrap.min.css set `[hidden] { display: none !important; }` so we also need the `!important` here to be able to override the default hidden behavior on the sphinx rendered scikit-learn.org. See: https://github.com/scikit-learn/scikit-learn/issues/21755 */display: inline-block !important;position: relative;}#sk-container-id-1 div.sk-text-repr-fallback {display: none;}</style><div id=\"sk-container-id-1\" class=\"sk-top-container\"><div class=\"sk-text-repr-fallback\"><pre>KNeighborsRegressor()</pre><b>In a Jupyter environment, please rerun this cell to show the HTML representation or trust the notebook. <br />On GitHub, the HTML representation is unable to render, please try loading this page with nbviewer.org.</b></div><div class=\"sk-container\" hidden><div class=\"sk-item\"><div class=\"sk-estimator sk-toggleable\"><input class=\"sk-toggleable__control sk-hidden--visually\" id=\"sk-estimator-id-1\" type=\"checkbox\" checked><label for=\"sk-estimator-id-1\" class=\"sk-toggleable__label sk-toggleable__label-arrow\">KNeighborsRegressor</label><div class=\"sk-toggleable__content\"><pre>KNeighborsRegressor()</pre></div></div></div></div></div>"
      ],
      "text/plain": [
       "KNeighborsRegressor()"
      ]
     },
     "execution_count": 5,
     "metadata": {},
     "output_type": "execute_result"
    }
   ],
   "source": [
    "knn = KNeighborsRegressor()\n",
    "knn.fit(X_train, y_train)"
   ]
  },
  {
   "cell_type": "code",
   "execution_count": 6,
   "id": "368e181d",
   "metadata": {},
   "outputs": [],
   "source": [
    "y_validation_pred = knn.predict(X_validation)"
   ]
  },
  {
   "cell_type": "code",
   "execution_count": 7,
   "id": "7a604365",
   "metadata": {},
   "outputs": [
    {
     "data": {
      "text/plain": [
       "0.687925768617416"
      ]
     },
     "execution_count": 7,
     "metadata": {},
     "output_type": "execute_result"
    }
   ],
   "source": [
    "mean_squared_error(y_validation, y_validation_pred, squared=False)"
   ]
  },
  {
   "cell_type": "code",
   "execution_count": 8,
   "id": "4b318b29",
   "metadata": {},
   "outputs": [
    {
     "data": {
      "text/plain": [
       "0.5452157531642169"
      ]
     },
     "execution_count": 8,
     "metadata": {},
     "output_type": "execute_result"
    }
   ],
   "source": [
    "mean_absolute_error(y_validation, y_validation_pred)"
   ]
  },
  {
   "cell_type": "code",
   "execution_count": 9,
   "id": "eaffe926",
   "metadata": {},
   "outputs": [],
   "source": [
    "pca = PCA(n_components=2)\n",
    "X_train_pca = pca.fit_transform(X_train)\n",
    "X_validation_pca = pca.fit_transform(X_validation)\n",
    "X_test_pca = pca.fit_transform(X_test)"
   ]
  },
  {
   "cell_type": "code",
   "execution_count": 10,
   "id": "fbb07e0d",
   "metadata": {},
   "outputs": [],
   "source": [
    "# 85-95% of the data\n",
    "# < 10 components\n",
    "# other: polynomial transform, cyclical transform if data/time, t-sne, nmf\n",
    "knn_pca = KNeighborsRegressor()\n",
    "knn_pca.fit(X_train_pca, y_train)\n",
    "y_validation_pca_pred = knn_pca.predict(X_validation_pca)"
   ]
  },
  {
   "cell_type": "code",
   "execution_count": 11,
   "id": "11825b51",
   "metadata": {},
   "outputs": [
    {
     "data": {
      "text/plain": [
       "0.8955627826665833"
      ]
     },
     "execution_count": 11,
     "metadata": {},
     "output_type": "execute_result"
    }
   ],
   "source": [
    "mean_squared_error(y_validation, y_validation_pca_pred, squared=False)"
   ]
  },
  {
   "cell_type": "code",
   "execution_count": 12,
   "id": "942d34d2",
   "metadata": {},
   "outputs": [
    {
     "data": {
      "text/plain": [
       "0.7447418089087172"
      ]
     },
     "execution_count": 12,
     "metadata": {},
     "output_type": "execute_result"
    }
   ],
   "source": [
    "mean_absolute_error(y_validation, y_validation_pca_pred)"
   ]
  },
  {
   "cell_type": "code",
   "execution_count": 13,
   "id": "69c7ba80",
   "metadata": {},
   "outputs": [],
   "source": [
    "poly = PolynomialFeatures()\n",
    "X_train_poly = poly.fit_transform(X_train)\n",
    "X_validation_poly = poly.fit_transform(X_validation)\n",
    "X_test_poly = poly.fit_transform(X_test)"
   ]
  },
  {
   "cell_type": "code",
   "execution_count": 14,
   "id": "732c4e88",
   "metadata": {},
   "outputs": [],
   "source": [
    "knn_poly = KNeighborsRegressor()\n",
    "knn_poly.fit(X_train_poly, y_train)\n",
    "y_validation_poly_pred = knn_poly.predict(X_validation_poly)"
   ]
  },
  {
   "cell_type": "code",
   "execution_count": 15,
   "id": "42a10855",
   "metadata": {},
   "outputs": [
    {
     "data": {
      "text/plain": [
       "0.7027693634506673"
      ]
     },
     "execution_count": 15,
     "metadata": {},
     "output_type": "execute_result"
    }
   ],
   "source": [
    "mean_squared_error(y_validation, y_validation_poly_pred, squared=False)"
   ]
  },
  {
   "cell_type": "code",
   "execution_count": 16,
   "id": "2a6dfded",
   "metadata": {},
   "outputs": [
    {
     "data": {
      "text/plain": [
       "0.5611119388420843"
      ]
     },
     "execution_count": 16,
     "metadata": {},
     "output_type": "execute_result"
    }
   ],
   "source": [
    "mean_absolute_error(y_validation, y_validation_poly_pred)"
   ]
  },
  {
   "cell_type": "code",
   "execution_count": 17,
   "id": "7cf535f6",
   "metadata": {},
   "outputs": [],
   "source": [
    "nmf = NMF(n_components=2)\n",
    "X_train_nmf = nmf.fit_transform(X_train)\n",
    "X_validation_nmf = nmf.fit_transform(X_validation)\n",
    "X_test_nmf = nmf.fit_transform(X_test)"
   ]
  },
  {
   "cell_type": "code",
   "execution_count": 18,
   "id": "48b92496",
   "metadata": {},
   "outputs": [],
   "source": [
    "knn_nmf = KNeighborsRegressor()\n",
    "knn_nmf.fit(X_train_nmf, y_train)\n",
    "y_validation_nmf_pred = knn_nmf.predict(X_validation_nmf)"
   ]
  },
  {
   "cell_type": "code",
   "execution_count": 19,
   "id": "3470f581",
   "metadata": {},
   "outputs": [
    {
     "data": {
      "text/plain": [
       "0.9295720490454715"
      ]
     },
     "execution_count": 19,
     "metadata": {},
     "output_type": "execute_result"
    }
   ],
   "source": [
    "mean_squared_error(y_validation, y_validation_nmf_pred, squared=False)"
   ]
  },
  {
   "cell_type": "code",
   "execution_count": 20,
   "id": "8813d11c",
   "metadata": {},
   "outputs": [
    {
     "data": {
      "text/plain": [
       "0.7296505313870757"
      ]
     },
     "execution_count": 20,
     "metadata": {},
     "output_type": "execute_result"
    }
   ],
   "source": [
    "mean_absolute_error(y_validation, y_validation_nmf_pred)"
   ]
  },
  {
   "cell_type": "code",
   "execution_count": 21,
   "id": "e5c9990f",
   "metadata": {},
   "outputs": [],
   "source": [
    "tsne = TSNE()\n",
    "X_train_tsne = tsne.fit_transform(X_train)\n",
    "X_validation_tsne = tsne.fit_transform(X_validation)\n",
    "X_test_tsne = tsne.fit_transform(X_test)"
   ]
  },
  {
   "cell_type": "code",
   "execution_count": 22,
   "id": "9de4f120",
   "metadata": {},
   "outputs": [],
   "source": [
    "knn_tsne = KNeighborsRegressor()\n",
    "knn_tsne.fit(X_train_tsne, y_train)\n",
    "y_validation_tsne_pred = knn_tsne.predict(X_validation_tsne)"
   ]
  },
  {
   "cell_type": "code",
   "execution_count": 23,
   "id": "e1d521e1",
   "metadata": {},
   "outputs": [
    {
     "data": {
      "text/plain": [
       "0.9494226522066399"
      ]
     },
     "execution_count": 23,
     "metadata": {},
     "output_type": "execute_result"
    }
   ],
   "source": [
    "mean_squared_error(y_validation, y_validation_tsne_pred, squared=False)"
   ]
  },
  {
   "cell_type": "code",
   "execution_count": 24,
   "id": "eff576c2",
   "metadata": {},
   "outputs": [
    {
     "data": {
      "text/plain": [
       "0.7913151697750694"
      ]
     },
     "execution_count": 24,
     "metadata": {},
     "output_type": "execute_result"
    }
   ],
   "source": [
    "mean_absolute_error(y_validation, y_validation_tsne_pred)"
   ]
  },
  {
   "cell_type": "code",
   "execution_count": 25,
   "id": "355292c3",
   "metadata": {},
   "outputs": [],
   "source": [
    "pt = PowerTransformer()\n",
    "X_train_pt = pt.fit_transform(X_train)\n",
    "X_validation_pt = pt.fit_transform(X_validation)\n",
    "X_test_pt = pt.fit_transform(X_test)"
   ]
  },
  {
   "cell_type": "code",
   "execution_count": 26,
   "id": "4d6f23cf",
   "metadata": {},
   "outputs": [],
   "source": [
    "knn_pt = KNeighborsRegressor()\n",
    "knn_pt.fit(X_train_pt, y_train)\n",
    "y_validation_pt_pred = knn_pt.predict(X_validation_pt)"
   ]
  },
  {
   "cell_type": "code",
   "execution_count": 27,
   "id": "6c788c81",
   "metadata": {},
   "outputs": [
    {
     "data": {
      "text/plain": [
       "0.7058374776107377"
      ]
     },
     "execution_count": 27,
     "metadata": {},
     "output_type": "execute_result"
    }
   ],
   "source": [
    "mean_squared_error(y_validation, y_validation_pt_pred, squared=False)"
   ]
  },
  {
   "cell_type": "code",
   "execution_count": 28,
   "id": "c699f130",
   "metadata": {},
   "outputs": [
    {
     "data": {
      "text/plain": [
       "0.573939941618395"
      ]
     },
     "execution_count": 28,
     "metadata": {},
     "output_type": "execute_result"
    }
   ],
   "source": [
    "mean_absolute_error(y_validation, y_validation_pt_pred)"
   ]
  }
 ],
 "metadata": {
  "kernelspec": {
   "display_name": "Python 3 (ipykernel)",
   "language": "python",
   "name": "python3"
  },
  "language_info": {
   "codemirror_mode": {
    "name": "ipython",
    "version": 3
   },
   "file_extension": ".py",
   "mimetype": "text/x-python",
   "name": "python",
   "nbconvert_exporter": "python",
   "pygments_lexer": "ipython3",
   "version": "3.9.6"
  }
 },
 "nbformat": 4,
 "nbformat_minor": 5
}
