{
 "cells": [
  {
   "cell_type": "code",
   "execution_count": 79,
   "metadata": {},
   "outputs": [
    {
     "data": {
      "text/html": [
       "<div>\n",
       "<style scoped>\n",
       "    .dataframe tbody tr th:only-of-type {\n",
       "        vertical-align: middle;\n",
       "    }\n",
       "\n",
       "    .dataframe tbody tr th {\n",
       "        vertical-align: top;\n",
       "    }\n",
       "\n",
       "    .dataframe thead th {\n",
       "        text-align: right;\n",
       "    }\n",
       "</style>\n",
       "<table border=\"1\" class=\"dataframe\">\n",
       "  <thead>\n",
       "    <tr style=\"text-align: right;\">\n",
       "      <th></th>\n",
       "      <th>genres</th>\n",
       "      <th>original_language</th>\n",
       "      <th>overview</th>\n",
       "      <th>popularity</th>\n",
       "      <th>budget</th>\n",
       "      <th>runtime</th>\n",
       "      <th>vote_average</th>\n",
       "      <th>vote_count</th>\n",
       "      <th>month</th>\n",
       "      <th>profit_margin</th>\n",
       "    </tr>\n",
       "  </thead>\n",
       "  <tbody>\n",
       "    <tr>\n",
       "      <th>0</th>\n",
       "      <td>Action-Science Fiction-Horror</td>\n",
       "      <td>en</td>\n",
       "      <td>An exploratory dive into the deepest depths of...</td>\n",
       "      <td>9.078522</td>\n",
       "      <td>18.675323</td>\n",
       "      <td>116.0</td>\n",
       "      <td>7.079</td>\n",
       "      <td>7.219642</td>\n",
       "      <td>08</td>\n",
       "      <td>1.884347</td>\n",
       "    </tr>\n",
       "    <tr>\n",
       "      <th>1</th>\n",
       "      <td>Horror-Mystery-Thriller</td>\n",
       "      <td>en</td>\n",
       "      <td>Father Gabriele Amorth Chief Exorcist of the V...</td>\n",
       "      <td>8.691857</td>\n",
       "      <td>16.705882</td>\n",
       "      <td>103.0</td>\n",
       "      <td>7.433</td>\n",
       "      <td>6.302619</td>\n",
       "      <td>04</td>\n",
       "      <td>2.066645</td>\n",
       "    </tr>\n",
       "    <tr>\n",
       "      <th>2</th>\n",
       "      <td>Action-Adventure-Science Fiction</td>\n",
       "      <td>en</td>\n",
       "      <td>When a new threat capable of destroying the en...</td>\n",
       "      <td>8.596024</td>\n",
       "      <td>19.113828</td>\n",
       "      <td>127.0</td>\n",
       "      <td>7.340</td>\n",
       "      <td>6.915723</td>\n",
       "      <td>06</td>\n",
       "      <td>1.663052</td>\n",
       "    </tr>\n",
       "    <tr>\n",
       "      <th>3</th>\n",
       "      <td>Action-Adventure-Science Fiction</td>\n",
       "      <td>en</td>\n",
       "      <td>Super-Hero partners Scott Lang and Hope van Dy...</td>\n",
       "      <td>8.395339</td>\n",
       "      <td>19.113828</td>\n",
       "      <td>125.0</td>\n",
       "      <td>6.507</td>\n",
       "      <td>7.941651</td>\n",
       "      <td>02</td>\n",
       "      <td>1.785370</td>\n",
       "    </tr>\n",
       "    <tr>\n",
       "      <th>4</th>\n",
       "      <td>Drama-Action</td>\n",
       "      <td>en</td>\n",
       "      <td>After dominating the boxing world Adonis Creed...</td>\n",
       "      <td>8.292884</td>\n",
       "      <td>18.132999</td>\n",
       "      <td>116.0</td>\n",
       "      <td>7.262</td>\n",
       "      <td>7.029973</td>\n",
       "      <td>03</td>\n",
       "      <td>2.056879</td>\n",
       "    </tr>\n",
       "  </tbody>\n",
       "</table>\n",
       "</div>"
      ],
      "text/plain": [
       "                             genres original_language   \n",
       "0     Action-Science Fiction-Horror                en  \\\n",
       "1           Horror-Mystery-Thriller                en   \n",
       "2  Action-Adventure-Science Fiction                en   \n",
       "3  Action-Adventure-Science Fiction                en   \n",
       "4                      Drama-Action                en   \n",
       "\n",
       "                                            overview  popularity     budget   \n",
       "0  An exploratory dive into the deepest depths of...    9.078522  18.675323  \\\n",
       "1  Father Gabriele Amorth Chief Exorcist of the V...    8.691857  16.705882   \n",
       "2  When a new threat capable of destroying the en...    8.596024  19.113828   \n",
       "3  Super-Hero partners Scott Lang and Hope van Dy...    8.395339  19.113828   \n",
       "4  After dominating the boxing world Adonis Creed...    8.292884  18.132999   \n",
       "\n",
       "   runtime  vote_average  vote_count month  profit_margin  \n",
       "0    116.0         7.079    7.219642    08       1.884347  \n",
       "1    103.0         7.433    6.302619    04       2.066645  \n",
       "2    127.0         7.340    6.915723    06       1.663052  \n",
       "3    125.0         6.507    7.941651    02       1.785370  \n",
       "4    116.0         7.262    7.029973    03       2.056879  "
      ]
     },
     "execution_count": 79,
     "metadata": {},
     "output_type": "execute_result"
    }
   ],
   "source": [
    "from sklearn.feature_extraction.text import TfidfVectorizer\n",
    "from sklearn.preprocessing import PowerTransformer\n",
    "from sklearn.model_selection import train_test_split\n",
    "import numpy as np\n",
    "import pandas as pd\n",
    "import matplotlib.pyplot as plt\n",
    "from scipy import stats \n",
    "from util import *\n",
    "df = pd.read_csv(\"movies.csv\")\n",
    "df = df.drop(columns=[\n",
    "    \"id\", \n",
    "    # \"title\", \n",
    "    \"status\", \n",
    "    # \"release_date\", # TODO: this is temporary, might keep this column\n",
    "    \"production_companies\", \n",
    "    \"credits\", \n",
    "    \"poster_path\", \n",
    "    \"backdrop_path\", \n",
    "    \"recommendations\", \n",
    "    \"keywords\", \n",
    "    \"tagline\"\n",
    "])\n",
    "\n",
    "df = df.dropna(subset=['release_date'])\n",
    "df[\"month\"] = df[\"release_date\"].apply(lambda val: str(val.split(\"-\")[1]))\n",
    "\n",
    "df = df[\n",
    "    (df[\"budget\"] > 0)\n",
    "    & (df[\"revenue\"] > 0)\n",
    "    & (df[\"vote_count\"] > 10)\n",
    "    & (df[\"vote_average\"] > 0)\n",
    "    & (df[\"runtime\"] > 0)\n",
    "]\n",
    "df = df.drop_duplicates(subset=[\"title\", \"release_date\"])\n",
    "df = df.drop(columns=[\"release_date\", \"title\"])\n",
    "df = df.dropna(subset=[\"genres\", \"runtime\", \"overview\"])\n",
    "languages_to_keep = df[\"original_language\"].value_counts().nlargest(15).index\n",
    "df[\"original_language\"] = df[\"original_language\"].apply(lambda row: row if row in languages_to_keep else \"other\")\n",
    "df[\"profit_margin\"] = profit_margin(df[\"budget\"], df[\"revenue\"])\n",
    "cols_to_adjust = [\"popularity\", \"budget\", \"vote_count\"]\n",
    "for i in cols_to_adjust: \n",
    "    df[i] = np.log1p(df[i])\n",
    "df = df[df[\"profit_margin\"] > -5]\n",
    "df[\"profit_margin\"] = np.exp(df[\"profit_margin\"])\n",
    "df = df.drop(columns=\"revenue\")\n",
    "df.head()"
   ]
  },
  {
   "cell_type": "code",
   "execution_count": 80,
   "metadata": {},
   "outputs": [
    {
     "data": {
      "image/png": "[encoded data removed]",
      "text/plain": [
       "<Figure size 640x480 with 6 Axes>"
      ]
     },
     "metadata": {},
     "output_type": "display_data"
    }
   ],
   "source": [
    "df.hist()\n",
    "plt.subplots_adjust(wspace=1, hspace=0.6)\n",
    "plt.show()"
   ]
  },
  {
   "cell_type": "code",
   "execution_count": 81,
   "metadata": {},
   "outputs": [],
   "source": [
    "cols_to_min_max_normalize = [\"popularity\", \"budget\", \"runtime\", \"vote_average\", \"vote_count\"]\n",
    "# get the mins and maxs so we can translate the profit margin (label) back to its actual value\n",
    "# for i in cols_to_log_normalize:\n",
    "#     df[i] = np.log1p(df[i])\n",
    "mins = df[cols_to_min_max_normalize].min()\n",
    "maxs = df[cols_to_min_max_normalize].max()\n",
    "min_max_df = pd.DataFrame({\"min\": mins, \"max\": maxs})\n",
    "min_max_df.to_csv(\"min_maxs.csv\")\n",
    "for i in cols_to_min_max_normalize:\n",
    "    min_val = df[i].min()\n",
    "    max_val = df[i].max()\n",
    "    df[i] = (df[i] - min_val) / (max_val - min_val)\n",
    "\n"
   ]
  },
  {
   "cell_type": "code",
   "execution_count": 82,
   "metadata": {},
   "outputs": [],
   "source": [
    "df = multihot_tf_idf(df, \"overview\")\n",
    "df = multihot_column(df, \"-\", \"genres\")\n",
    "df = multihot_column(df, \"-\", \"month\")\n",
    "df = pd.get_dummies(df, columns=[\"original_language\"], dtype=int)"
   ]
  },
  {
   "cell_type": "code",
   "execution_count": 85,
   "metadata": {},
   "outputs": [],
   "source": [
    "# df = df.drop(columns=\"revenue\")\n",
    "# get the 80% for training\n",
    "train, test = train_test_split(df, test_size=0.2)\n",
    "# split the remaining into 10 and 10\n",
    "val, test = train_test_split(test, test_size=0.5)\n",
    "train.to_csv(\"train.csv\", index=False)\n",
    "val.to_csv(\"validation.csv\", index=False)\n",
    "test.to_csv(\"test.csv\", index=False)"
   ]
  },
  {
   "cell_type": "code",
   "execution_count": null,
   "metadata": {},
   "outputs": [],
   "source": [
    "train.describe()"
   ]
  },
  {
   "cell_type": "code",
   "execution_count": null,
   "metadata": {},
   "outputs": [],
   "source": [
    "val[\"profit_margin\"].hist()"
   ]
  },
  {
   "cell_type": "code",
   "execution_count": 86,
   "metadata": {},
   "outputs": [
    {
     "data": {
      "text/plain": [
       "((6058, 73), (757, 73), (758, 73))"
      ]
     },
     "execution_count": 86,
     "metadata": {},
     "output_type": "execute_result"
    }
   ],
   "source": [
    "train.shape, val.shape, test.shape"
   ]
  },
  {
   "cell_type": "code",
   "execution_count": null,
   "metadata": {},
   "outputs": [],
   "source": [
    "df[\"profit_margin\"].describe()"
   ]
  },
  {
   "cell_type": "code",
   "execution_count": null,
   "metadata": {},
   "outputs": [],
   "source": [
    "test = pd.read_csv(\"movies.csv\")\n",
    "# test = test[[\"budget\", \"revenue\", \"popularity\", \"vote_count\"]].dropna()\n",
    "test = test[[\"budget\", \"revenue\", \"popularity\", \"vote_count\", \"vote_average\", \"runtime\"]].dropna()\n",
    "# test = test.drop(columns=\"id\")\n",
    "test = test[\n",
    "    (test[\"budget\"] > 0)\n",
    "    & (test[\"revenue\"] > 0)\n",
    "    & (test[\"vote_count\"] > 10)\n",
    "    & (test[\"vote_average\"] > 0)\n",
    "    & (test[\"runtime\"] > 0)\n",
    "]\n",
    "# # test[\"revenue\"] = np.log(test[\"revenue\"])\n",
    "# test[\"profit_margin\"] = profit_margin(test[\"budget\"], test[\"revenue\"])\n",
    "# test[test[\"profit_margin\"] > -9999].shape\n",
    "# test = test[test[\"profit_margin\"] > -9999]\n",
    "# test.describe()\n",
    "# test[\"popularity\"] = np.log(test[\"popularity\"])\n",
    "# test[\"vote_count\"] = np.log(test[\"vote_count\"])\n",
    "# test[\"budget\"] = np.log(test[\"budget\"])\n",
    "# # test[\"vote_average\"] = np.log(test[\"vote_average\"])\n",
    "# test = test.drop(columns=[\"revenue\"])\n",
    "test[\"revenue\"].hist()"
   ]
  },
  {
   "cell_type": "code",
   "execution_count": null,
   "metadata": {},
   "outputs": [],
   "source": [
    "test[\"revenue\"].describe()"
   ]
  },
  {
   "cell_type": "code",
   "execution_count": null,
   "metadata": {},
   "outputs": [],
   "source": [
    "test.hist()"
   ]
  },
  {
   "cell_type": "code",
   "execution_count": null,
   "metadata": {},
   "outputs": [],
   "source": [
    "df[[\"revenue\", \"budget\"]].hist()"
   ]
  }
 ],
 "metadata": {
  "kernelspec": {
   "display_name": "Python 3",
   "language": "python",
   "name": "python3"
  },
  "language_info": {
   "codemirror_mode": {
    "name": "ipython",
    "version": 3
   },
   "file_extension": ".py",
   "mimetype": "text/x-python",
   "name": "python",
   "nbconvert_exporter": "python",
   "pygments_lexer": "ipython3",
   "version": "3.10.12"
  },
  "orig_nbformat": 4
 },
 "nbformat": 4,
 "nbformat_minor": 2
}
