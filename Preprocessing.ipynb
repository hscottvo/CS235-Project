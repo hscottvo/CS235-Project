{
 "cells": [
  {
   "cell_type": "code",
   "execution_count": null,
   "metadata": {},
   "outputs": [],
   "source": [
    "from sklearn.feature_extraction.text import TfidfVectorizer\n",
    "from sklearn.model_selection import train_test_split\n",
    "import numpy as np\n",
    "import pandas as pd\n",
    "import matplotlib.pyplot as plt\n",
    "from util import *\n",
    "df = pd.read_csv(\"movies.csv\")\n",
    "df = df.drop(columns=[\n",
    "    \"id\", \n",
    "    # \"title\", \n",
    "    \"status\", \n",
    "    # \"release_date\", # TODO: this is temporary, might keep this column\n",
    "    \"production_companies\", \n",
    "    \"credits\", \n",
    "    \"poster_path\", \n",
    "    \"backdrop_path\", \n",
    "    \"recommendations\", \n",
    "    \"keywords\", \n",
    "    \"tagline\"\n",
    "])\n",
    "\n",
    "df = df[\n",
    "    (df[\"budget\"] > 0)\n",
    "    & (df[\"revenue\"] > 0)\n",
    "    & (df[\"vote_count\"] > 10)\n",
    "    & (df[\"vote_average\"] > 0)\n",
    "    & (df[\"runtime\"] > 0)\n",
    "]\n",
    "df = df.drop_duplicates(subset=[\"title\", \"release_date\"])\n",
    "df = df.drop(columns=[\"release_date\", \"title\"])\n",
    "df = df.dropna(subset=[\"genres\", \"runtime\", \"overview\"])\n",
    "languages_to_keep = df[\"original_language\"].value_counts().nlargest(15).index\n",
    "df[\"original_language\"] = df[\"original_language\"].apply(lambda row: row if row in languages_to_keep else \"other\")\n",
    "cols_to_adjust = [\"popularity\", \"budget\", \"revenue\", \"vote_count\"]\n",
    "for i in cols_to_adjust: \n",
    "    thresh_lower = df[i].quantile(0.05)\n",
    "    thresh_upper = df[i].quantile(0.95)\n",
    "    df[i] = df[i].clip(lower=thresh_lower, upper=thresh_upper)\n",
    "df.describe()\n",
    "df[\"profit_margin\"] = profit_margin(df[\"budget\"], df[\"revenue\"])\n",
    "profit_margin_lower = df[\"profit_margin\"].quantile(0.05)\n",
    "profit_margin_upper = df[\"profit_margin\"].quantile(0.95)\n",
    "df[\"profit_margin\"] = df[\"profit_margin\"].clip(lower=profit_margin_lower, upper=profit_margin_upper)\n",
    "df.head()"
   ]
  },
  {
   "cell_type": "code",
   "execution_count": null,
   "metadata": {},
   "outputs": [],
   "source": [
    "df.hist()\n",
    "plt.subplots_adjust(wspace=1, hspace=0.6)\n",
    "plt.show()"
   ]
  },
  {
   "cell_type": "code",
   "execution_count": null,
   "metadata": {},
   "outputs": [],
   "source": [
    "cols_to_log_normalize = [\"popularity\", \"budget\", \"revenue\", \"vote_count\"]\n",
    "cols_to_min_max_normalize = [\"popularity\", \"budget\", \"revenue\", \"runtime\", \"vote_average\", \"vote_count\", \"profit_margin\"]\n",
    "# get the mins and maxs so we can translate the profit margin (label) back to its actual value\n",
    "for i in cols_to_log_normalize:\n",
    "    df[i] = np.log1p(df[i])\n",
    "mins = df[cols_to_min_max_normalize].min()\n",
    "maxs = df[cols_to_min_max_normalize].max()\n",
    "min_max_df = pd.DataFrame({\"min\": mins, \"max\": maxs})\n",
    "min_max_df.to_csv(\"min_maxs.csv\")\n",
    "for i in cols_to_min_max_normalize:\n",
    "    min_val = df[i].min()\n",
    "    max_val = df[i].max()\n",
    "    df[i] = (df[i] - min_val) / (max_val - min_val)\n",
    "df.describe()\n"
   ]
  },
  {
   "cell_type": "code",
   "execution_count": null,
   "metadata": {},
   "outputs": [],
   "source": [
    "df = multihot_tf_idf(df, \"overview\")\n",
    "df = multihot_column(df, \"-\", \"genres\")\n",
    "df = pd.get_dummies(df, columns=[\"original_language\"], dtype=int)"
   ]
  },
  {
   "cell_type": "code",
   "execution_count": null,
   "metadata": {},
   "outputs": [],
   "source": [
    "df[cols_to_min_max_normalize].hist()"
   ]
  },
  {
   "cell_type": "code",
   "execution_count": null,
   "metadata": {},
   "outputs": [],
   "source": [
    "# get the 80% for training\n",
    "train, test = train_test_split(df, test_size=0.2)\n",
    "# split the remaining into 10 and 10\n",
    "val, test = train_test_split(df, test_size=0.5)\n",
    "train.to_csv(\"train.csv\", index=False)\n",
    "val.to_csv(\"validation.csv\", index=False)\n",
    "test.to_csv(\"test.csv\", index=False)"
   ]
  },
  {
   "cell_type": "code",
   "execution_count": null,
   "metadata": {},
   "outputs": [],
   "source": [
    "df[\"vote_average\"].corr(df[\"profit_margin\"])"
   ]
  },
  {
   "cell_type": "code",
   "execution_count": null,
   "metadata": {},
   "outputs": [],
   "source": []
  }
 ],
 "metadata": {
  "kernelspec": {
   "display_name": "Python 3",
   "language": "python",
   "name": "python3"
  },
  "language_info": {
   "codemirror_mode": {
    "name": "ipython",
    "version": 3
   },
   "file_extension": ".py",
   "mimetype": "text/x-python",
   "name": "python",
   "nbconvert_exporter": "python",
   "pygments_lexer": "ipython3",
   "version": "3.10.12"
  },
  "orig_nbformat": 4
 },
 "nbformat": 4,
 "nbformat_minor": 2
}
