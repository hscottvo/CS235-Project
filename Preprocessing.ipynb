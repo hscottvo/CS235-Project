{
 "cells": [
  {
   "cell_type": "code",
   "execution_count": 136,
   "metadata": {},
   "outputs": [
    {
     "data": {
      "text/html": [
       "<div>\n",
       "<style scoped>\n",
       "    .dataframe tbody tr th:only-of-type {\n",
       "        vertical-align: middle;\n",
       "    }\n",
       "\n",
       "    .dataframe tbody tr th {\n",
       "        vertical-align: top;\n",
       "    }\n",
       "\n",
       "    .dataframe thead th {\n",
       "        text-align: right;\n",
       "    }\n",
       "</style>\n",
       "<table border=\"1\" class=\"dataframe\">\n",
       "  <thead>\n",
       "    <tr style=\"text-align: right;\">\n",
       "      <th></th>\n",
       "      <th>genres</th>\n",
       "      <th>original_language</th>\n",
       "      <th>overview</th>\n",
       "      <th>popularity</th>\n",
       "      <th>budget</th>\n",
       "      <th>revenue</th>\n",
       "      <th>runtime</th>\n",
       "      <th>vote_average</th>\n",
       "      <th>vote_count</th>\n",
       "      <th>profit_margin</th>\n",
       "    </tr>\n",
       "  </thead>\n",
       "  <tbody>\n",
       "    <tr>\n",
       "      <th>0</th>\n",
       "      <td>Action-Science Fiction-Horror</td>\n",
       "      <td>en</td>\n",
       "      <td>An exploratory dive into the deepest depths of...</td>\n",
       "      <td>64.9115</td>\n",
       "      <td>105000000.0</td>\n",
       "      <td>349946693.5</td>\n",
       "      <td>116.0</td>\n",
       "      <td>7.079</td>\n",
       "      <td>1365.0</td>\n",
       "      <td>2.013661</td>\n",
       "    </tr>\n",
       "    <tr>\n",
       "      <th>1</th>\n",
       "      <td>Horror-Mystery-Thriller</td>\n",
       "      <td>en</td>\n",
       "      <td>Father Gabriele Amorth Chief Exorcist of the V...</td>\n",
       "      <td>64.9115</td>\n",
       "      <td>18000000.0</td>\n",
       "      <td>65675816.0</td>\n",
       "      <td>103.0</td>\n",
       "      <td>7.433</td>\n",
       "      <td>545.0</td>\n",
       "      <td>2.066645</td>\n",
       "    </tr>\n",
       "    <tr>\n",
       "      <th>2</th>\n",
       "      <td>Action-Adventure-Science Fiction</td>\n",
       "      <td>en</td>\n",
       "      <td>When a new threat capable of destroying the en...</td>\n",
       "      <td>64.9115</td>\n",
       "      <td>105000000.0</td>\n",
       "      <td>349946693.5</td>\n",
       "      <td>127.0</td>\n",
       "      <td>7.340</td>\n",
       "      <td>1007.0</td>\n",
       "      <td>2.013661</td>\n",
       "    </tr>\n",
       "    <tr>\n",
       "      <th>3</th>\n",
       "      <td>Action-Adventure-Science Fiction</td>\n",
       "      <td>en</td>\n",
       "      <td>Super-Hero partners Scott Lang and Hope van Dy...</td>\n",
       "      <td>64.9115</td>\n",
       "      <td>105000000.0</td>\n",
       "      <td>349946693.5</td>\n",
       "      <td>125.0</td>\n",
       "      <td>6.507</td>\n",
       "      <td>2811.0</td>\n",
       "      <td>2.013661</td>\n",
       "    </tr>\n",
       "    <tr>\n",
       "      <th>4</th>\n",
       "      <td>Drama-Action</td>\n",
       "      <td>en</td>\n",
       "      <td>After dominating the boxing world Adonis Creed...</td>\n",
       "      <td>64.9115</td>\n",
       "      <td>75000000.0</td>\n",
       "      <td>269000000.0</td>\n",
       "      <td>116.0</td>\n",
       "      <td>7.262</td>\n",
       "      <td>1129.0</td>\n",
       "      <td>2.056879</td>\n",
       "    </tr>\n",
       "  </tbody>\n",
       "</table>\n",
       "</div>"
      ],
      "text/plain": [
       "                             genres original_language  \\\n",
       "0     Action-Science Fiction-Horror                en   \n",
       "1           Horror-Mystery-Thriller                en   \n",
       "2  Action-Adventure-Science Fiction                en   \n",
       "3  Action-Adventure-Science Fiction                en   \n",
       "4                      Drama-Action                en   \n",
       "\n",
       "                                            overview  popularity       budget  \\\n",
       "0  An exploratory dive into the deepest depths of...     64.9115  105000000.0   \n",
       "1  Father Gabriele Amorth Chief Exorcist of the V...     64.9115   18000000.0   \n",
       "2  When a new threat capable of destroying the en...     64.9115  105000000.0   \n",
       "3  Super-Hero partners Scott Lang and Hope van Dy...     64.9115  105000000.0   \n",
       "4  After dominating the boxing world Adonis Creed...     64.9115   75000000.0   \n",
       "\n",
       "       revenue  runtime  vote_average  vote_count  profit_margin  \n",
       "0  349946693.5    116.0         7.079      1365.0       2.013661  \n",
       "1   65675816.0    103.0         7.433       545.0       2.066645  \n",
       "2  349946693.5    127.0         7.340      1007.0       2.013661  \n",
       "3  349946693.5    125.0         6.507      2811.0       2.013661  \n",
       "4  269000000.0    116.0         7.262      1129.0       2.056879  "
      ]
     },
     "execution_count": 136,
     "metadata": {},
     "output_type": "execute_result"
    }
   ],
   "source": [
    "from sklearn.feature_extraction.text import TfidfVectorizer\n",
    "from sklearn.preprocessing import PowerTransformer\n",
    "from sklearn.model_selection import train_test_split\n",
    "import numpy as np\n",
    "import pandas as pd\n",
    "import matplotlib.pyplot as plt\n",
    "from scipy import stats \n",
    "from util import *\n",
    "df = pd.read_csv(\"movies.csv\")\n",
    "df = df.drop(columns=[\n",
    "    \"id\", \n",
    "    # \"title\", \n",
    "    \"status\", \n",
    "    # \"release_date\", # TODO: this is temporary, might keep this column\n",
    "    \"production_companies\", \n",
    "    \"credits\", \n",
    "    \"poster_path\", \n",
    "    \"backdrop_path\", \n",
    "    \"recommendations\", \n",
    "    \"keywords\", \n",
    "    \"tagline\"\n",
    "])\n",
    "\n",
    "df = df[\n",
    "    (df[\"budget\"] > 0)\n",
    "    & (df[\"revenue\"] > 0)\n",
    "    & (df[\"vote_count\"] > 10)\n",
    "    & (df[\"vote_average\"] > 0)\n",
    "    & (df[\"runtime\"] > 0)\n",
    "]\n",
    "df = df.drop_duplicates(subset=[\"title\", \"release_date\"])\n",
    "df = df.drop(columns=[\"release_date\", \"title\"])\n",
    "df = df.dropna(subset=[\"genres\", \"runtime\", \"overview\"])\n",
    "languages_to_keep = df[\"original_language\"].value_counts().nlargest(15).index\n",
    "df[\"original_language\"] = df[\"original_language\"].apply(lambda row: row if row in languages_to_keep else \"other\")\n",
    "cols_to_adjust = [\"popularity\", \"budget\", \"revenue\", \"vote_count\"]\n",
    "for i in cols_to_adjust: \n",
    "    thresh_lower = df[i].quantile(0.05)\n",
    "    thresh_upper = df[i].quantile(0.95)\n",
    "    df[i] = df[i].clip(lower=thresh_lower, upper=thresh_upper)\n",
    "df.describe()\n",
    "df[\"profit_margin\"] = profit_margin(df[\"budget\"], df[\"revenue\"])\n",
    "profit_margin_lower = df[\"profit_margin\"].quantile(0.05)\n",
    "profit_margin_upper = df[\"profit_margin\"].quantile(0.95)\n",
    "df[\"profit_margin\"] = df[\"profit_margin\"].clip(lower=profit_margin_lower, upper=profit_margin_upper)\n",
    "df[\"profit_margin\"] = np.exp(df[\"profit_margin\"])\n",
    "# df = df.drop(columns=\"revenue\")\n",
    "df.head()"
   ]
  },
  {
   "cell_type": "code",
   "execution_count": 137,
   "metadata": {},
   "outputs": [
    {
     "data": {
      "image/png": "[encoded data removed]",
      "text/plain": [
       "<Figure size 640x480 with 9 Axes>"
      ]
     },
     "metadata": {},
     "output_type": "display_data"
    }
   ],
   "source": [
    "df.hist()\n",
    "plt.subplots_adjust(wspace=1, hspace=0.6)\n",
    "plt.show()"
   ]
  },
  {
   "cell_type": "code",
   "execution_count": 138,
   "metadata": {},
   "outputs": [],
   "source": [
    "cols_to_log_normalize = [\"popularity\", \"budget\", \"vote_count\"]\n",
    "cols_to_min_max_normalize = [\"popularity\", \"budget\", \"runtime\", \"vote_average\", \"vote_count\"]\n",
    "# get the mins and maxs so we can translate the profit margin (label) back to its actual value\n",
    "for i in cols_to_log_normalize:\n",
    "    df[i] = np.log1p(df[i])\n",
    "mins = df[cols_to_min_max_normalize].min()\n",
    "maxs = df[cols_to_min_max_normalize].max()\n",
    "min_max_df = pd.DataFrame({\"min\": mins, \"max\": maxs})\n",
    "min_max_df.to_csv(\"min_maxs.csv\")\n",
    "for i in cols_to_min_max_normalize:\n",
    "    min_val = df[i].min()\n",
    "    max_val = df[i].max()\n",
    "    df[i] = (df[i] - min_val) / (max_val - min_val)\n",
    "\n"
   ]
  },
  {
   "cell_type": "code",
   "execution_count": 139,
   "metadata": {},
   "outputs": [],
   "source": [
    "df = multihot_tf_idf(df, \"overview\")\n",
    "df = multihot_column(df, \"-\", \"genres\")\n",
    "df = pd.get_dummies(df, columns=[\"original_language\"], dtype=int)"
   ]
  },
  {
   "cell_type": "code",
   "execution_count": 140,
   "metadata": {},
   "outputs": [],
   "source": [
    "df = df.drop(columns=\"revenue\")\n",
    "# get the 80% for training\n",
    "train, test = train_test_split(df, test_size=0.2)\n",
    "# split the remaining into 10 and 10\n",
    "val, test = train_test_split(test, test_size=0.5)\n",
    "train.to_csv(\"train.csv\", index=False)\n",
    "val.to_csv(\"validation.csv\", index=False)\n",
    "test.to_csv(\"test.csv\", index=False)"
   ]
  },
  {
   "cell_type": "code",
   "execution_count": 141,
   "metadata": {},
   "outputs": [
    {
     "data": {
      "text/plain": [
       "((6716, 61), (840, 61), (840, 61))"
      ]
     },
     "execution_count": 141,
     "metadata": {},
     "output_type": "execute_result"
    }
   ],
   "source": [
    "train.shape, val.shape, test.shape"
   ]
  },
  {
   "cell_type": "code",
   "execution_count": 142,
   "metadata": {},
   "outputs": [
    {
     "data": {
      "text/plain": [
       "Index(['popularity', 'budget', 'runtime', 'vote_average', 'vote_count',\n",
       "       'profit_margin', 'overview: life', 'overview: new', 'overview: young',\n",
       "       'overview: world', 'overview: man', 'overview: family',\n",
       "       'overview: love', 'overview: woman', 'overview: story',\n",
       "       'overview: finds', 'overview: old', 'overview: time',\n",
       "       'overview: father', 'overview: friends', 'overview: years',\n",
       "       'overview: war', 'overview: help', 'overview: wife', 'overview: town',\n",
       "       'overview: school', 'genres: Documentary', 'genres: Romance',\n",
       "       'genres: Animation', 'genres: Family', 'genres: Mystery',\n",
       "       'genres: Adventure', 'genres: Comedy', 'genres: Music', 'genres: War',\n",
       "       'genres: TV Movie', 'genres: Fantasy', 'genres: Western',\n",
       "       'genres: Action', 'genres: Horror', 'genres: History', 'genres: Drama',\n",
       "       'genres: Thriller', 'genres: Science Fiction', 'genres: Crime',\n",
       "       'original_language_cn', 'original_language_de', 'original_language_en',\n",
       "       'original_language_es', 'original_language_fr', 'original_language_hi',\n",
       "       'original_language_it', 'original_language_ja', 'original_language_ko',\n",
       "       'original_language_ml', 'original_language_other',\n",
       "       'original_language_ru', 'original_language_ta', 'original_language_te',\n",
       "       'original_language_tr', 'original_language_zh'],\n",
       "      dtype='object')"
      ]
     },
     "execution_count": 142,
     "metadata": {},
     "output_type": "execute_result"
    }
   ],
   "source": [
    "train.columns"
   ]
  },
  {
   "cell_type": "code",
   "execution_count": null,
   "metadata": {},
   "outputs": [],
   "source": []
  }
 ],
 "metadata": {
  "kernelspec": {
   "display_name": "Python 3",
   "language": "python",
   "name": "python3"
  },
  "language_info": {
   "codemirror_mode": {
    "name": "ipython",
    "version": 3
   },
   "file_extension": ".py",
   "mimetype": "text/x-python",
   "name": "python",
   "nbconvert_exporter": "python",
   "pygments_lexer": "ipython3",
   "version": "3.10.12"
  },
  "orig_nbformat": 4
 },
 "nbformat": 4,
 "nbformat_minor": 2
}
