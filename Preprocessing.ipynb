{
 "cells": [
  {
   "cell_type": "code",
   "execution_count": null,
   "metadata": {},
   "outputs": [],
   "source": [
    "from sklearn.feature_extraction.text import TfidfVectorizer\n",
    "import numpy as np\n",
    "import pandas as pd\n",
    "from util import *\n",
    "df = pd.read_csv(\"movies.csv\")\n",
    "df[\"profit_margin\"] = profit_margin(df[\"budget\"], df[\"revenue\"])\n",
    "df.head()"
   ]
  },
  {
   "cell_type": "code",
   "execution_count": null,
   "metadata": {},
   "outputs": [],
   "source": [
    "df = multihot_column(df, \"-\", \"genres\")\n",
    "df = multihot_tf_idf(df, \"keywords\")\n",
    "# tf idf is being weird for taglines, don't use for now\n",
    "# df = multihot_tf_idf(df, \"tagline\")\n",
    "df.head()"
   ]
  },
  {
   "cell_type": "code",
   "execution_count": null,
   "metadata": {},
   "outputs": [],
   "source": [
    "for i in df.columns:\n",
    "    print(i)"
   ]
  },
  {
   "cell_type": "code",
   "execution_count": null,
   "metadata": {},
   "outputs": [],
   "source": [
    "for i in df[\"status\"].unique():\n",
    "    print(i, df[\"status\"][df[\"status\"] == i].shape)"
   ]
  },
  {
   "cell_type": "code",
   "execution_count": null,
   "metadata": {},
   "outputs": [],
   "source": [
    "df[\"tagline\"] = df[\"tagline\"].fillna(\"_\")\n",
    "df[\"tagline_count\"] = df.apply(lambda row: len(row[\"tagline\"].split(\" \")), axis=1)\n",
    "for i in df[df[\"tagline_count\"] == 1][\"tagline\"].unique():\n",
    "    print(i)"
   ]
  },
  {
   "cell_type": "code",
   "execution_count": null,
   "metadata": {},
   "outputs": [],
   "source": [
    "df[df[\"tagline_count\"] > 1][\"tagline_count\"].hist()"
   ]
  },
  {
   "cell_type": "code",
   "execution_count": null,
   "metadata": {},
   "outputs": [],
   "source": [
    "df[df[\"vote_average\"] != 0][\"vote_average\"].hist()"
   ]
  },
  {
   "cell_type": "code",
   "execution_count": null,
   "metadata": {},
   "outputs": [],
   "source": [
    "# df[df[\"vote_count\"] != 0][\"vote_count\"].hist()\n",
    "df.describe()\n",
    "print(df.shape)\n",
    "df[df[\"vote_count\"] == 0].shape[0] / df.shape[0]"
   ]
  },
  {
   "cell_type": "code",
   "execution_count": null,
   "metadata": {},
   "outputs": [],
   "source": [
    "df[df[\"vote_average\"] == 0].shape[0] / df.shape[0]"
   ]
  },
  {
   "cell_type": "code",
   "execution_count": null,
   "metadata": {},
   "outputs": [],
   "source": [
    "df[\"runtime\"].unique()"
   ]
  },
  {
   "cell_type": "code",
   "execution_count": null,
   "metadata": {},
   "outputs": [],
   "source": [
    "df[df[\"budget\"] < 5000000][\"budget\"]"
   ]
  },
  {
   "cell_type": "code",
   "execution_count": null,
   "metadata": {},
   "outputs": [],
   "source": [
    "credits = set()\n",
    "for i in df[\"credits\"].dropna():\n",
    "    # print(i.split('-'))\n",
    "    for j in i.split(\"-\"):\n",
    "        # print(j)\n",
    "        if j not in credits:\n",
    "            credits.add(j)\n",
    "len(credits) / df.shape[0]"
   ]
  },
  {
   "cell_type": "code",
   "execution_count": null,
   "metadata": {},
   "outputs": [],
   "source": [
    "df[\"credits\"] = df[\"credits\"].fillna(\"_\")\n",
    "df[\"credit_count\"] = df.apply(lambda row: len(row[\"credits\"].split(\"-\")), axis=1)\n",
    "print(sorted(df[\"credit_count\"].unique()))\n",
    "df[(df[\"credit_count\"] < 100) & (df[\"credit_count\"] > 1)][\"credit_count\"].hist()"
   ]
  },
  {
   "cell_type": "code",
   "execution_count": null,
   "metadata": {},
   "outputs": [],
   "source": [
    "import matplotlib.pyplot as plt\n",
    "plot_df = df[df[\"revenue\"] < 500]\n",
    "plot_df = plot_df[plot_df[\"revenue\"] > 0]\n",
    "plt.scatter(plot_df[\"budget\"], plot_df[\"revenue\"])"
   ]
  },
  {
   "cell_type": "code",
   "execution_count": null,
   "metadata": {},
   "outputs": [],
   "source": [
    "df.describe()"
   ]
  },
  {
   "cell_type": "code",
   "execution_count": null,
   "metadata": {},
   "outputs": [],
   "source": [
    "df[[\"revenue\", \"budget\"]].corr()"
   ]
  },
  {
   "cell_type": "code",
   "execution_count": null,
   "metadata": {},
   "outputs": [],
   "source": []
  }
 ],
 "metadata": {
  "kernelspec": {
   "display_name": "Python 3",
   "language": "python",
   "name": "python3"
  },
  "language_info": {
   "codemirror_mode": {
    "name": "ipython",
    "version": 3
   },
   "file_extension": ".py",
   "mimetype": "text/x-python",
   "name": "python",
   "nbconvert_exporter": "python",
   "pygments_lexer": "ipython3",
   "version": "3.10.12"
  },
  "orig_nbformat": 4
 },
 "nbformat": 4,
 "nbformat_minor": 2
}
