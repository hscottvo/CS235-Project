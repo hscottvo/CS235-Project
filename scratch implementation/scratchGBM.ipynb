{
 "cells": [
  {
   "cell_type": "code",
   "execution_count": 3,
   "metadata": {},
   "outputs": [],
   "source": [
    "import numpy as np \n",
    "import pandas as pd \n",
    "import math\n",
    "\n",
    "from gradient_boosting import GradientBoostingRegressor\n",
    "from sklearn.metrics import mean_squared_error, mean_absolute_error\n",
    "\n",
    "%load_ext autoreload\n",
    "%autoreload 2"
   ]
  },
  {
   "cell_type": "code",
   "execution_count": 4,
   "metadata": {},
   "outputs": [],
   "source": [
    "df_train = pd.read_csv('train.csv')\n",
    "df_valid = pd.read_csv('validation.csv')\n",
    "df_test = pd.read_csv('test.csv')"
   ]
  },
  {
   "cell_type": "code",
   "execution_count": 5,
   "metadata": {},
   "outputs": [],
   "source": [
    "var_columns = [c for c in df_train.columns if c not in ['profit_margin']]\n",
    "\n",
    "x_train = df_train.loc[:,var_columns]\n",
    "y_train = df_train.loc[:,'profit_margin']\n",
    "\n",
    "x_train_np = x_train.to_numpy()\n",
    "y_train_np = y_train.to_numpy()\n",
    "\n",
    "x_valid = df_valid.loc[:,var_columns]\n",
    "y_valid = df_valid.loc[:,'profit_margin']\n",
    "\n",
    "x_valid_np = x_valid.to_numpy()\n",
    "y_valid_np = y_valid.to_numpy()\n",
    "\n",
    "x_test = df_test.loc[:,var_columns]\n",
    "y_test = df_test.loc[:,'profit_margin']\n",
    "\n",
    "x_test_np = x_test.to_numpy()\n",
    "y_test_np = y_test.to_numpy()"
   ]
  },
  {
   "cell_type": "code",
   "execution_count": 6,
   "metadata": {},
   "outputs": [
    {
     "name": "stderr",
     "output_type": "stream",
     "text": [
      "Training: 100% [------------------------------------------------] Time: 0:04:10\r"
     ]
    },
    {
     "name": "stdout",
     "output_type": "stream",
     "text": [
      "0\n",
      "Baseline MSE: 0.469364869357778\n",
      "Baseline RMSE: 0.6851020868146426\n",
      "Baseline MAE: 0.5558102993290996\n"
     ]
    },
    {
     "name": "stderr",
     "output_type": "stream",
     "text": [
      "\n"
     ]
    }
   ],
   "source": [
    "# baseline\n",
    "scratch_baseline = GradientBoostingRegressor(2, 0.1, 2, 1e-7, 3, 'squared_error')\n",
    "scratch_baseline.fit(x_train_np, y_train_np)\n",
    "y_pred_base = scratch_baseline.predict(x_test_np)\n",
    "\n",
    "y_actual = df_test['profit_margin'].to_numpy()\n",
    "\n",
    "results = pd.DataFrame({\"predicted\":y_pred_base, \"actual\":y_actual}).sort_values('actual')\n",
    "num_neg = 0\n",
    "for i in results['predicted']:\n",
    "    if i < 0:\n",
    "        num_neg += 1\n",
    "print(num_neg)\n",
    "# print(results.to_string())\n",
    "\n",
    "MSE = mean_squared_error(y_actual, y_pred_base)\n",
    "print(f'Baseline MSE: {MSE}')\n",
    "\n",
    "RMSE = math.sqrt(MSE)\n",
    "print(f'Baseline RMSE: {RMSE}')\n",
    "\n",
    "MAE = mean_absolute_error(y_actual, y_pred_base)\n",
    "print(f'Baseline MAE: {MAE}')"
   ]
  },
  {
   "cell_type": "code",
   "execution_count": 26,
   "metadata": {},
   "outputs": [
    {
     "name": "stdout",
     "output_type": "stream",
     "text": [
      "Training: 100% [------------------------------------------------] Time: 9:34:08\n",
      "0\n",
      "Changed MSE: 0.4574843080966632\n",
      "Changed RMSE: 0.6776165244123673\n",
      "Changed MAE: 0.5394998065916507\n"
     ]
    }
   ],
   "source": [
    "# tuned\n",
    "scratch_tuned = GradientBoostingRegressor(60, 0.01, 2, 1e-7, 3, 'huber')\n",
    "scratch_tuned.fit(x_train_np, y_train_np)\n",
    "y_pred_tuned = scratch_tuned.predict(x_test_np)\n",
    "\n",
    "y_actual = df_test['profit_margin'].to_numpy()\n",
    "\n",
    "results = pd.DataFrame({\"predicted\":y_pred_tuned, \"actual\":y_actual}).sort_values('actual')\n",
    "num_neg = 0\n",
    "counter = 0\n",
    "for i in results['predicted']:\n",
    "    if i < 0:\n",
    "        num_neg += 1\n",
    "        results.at[0, 'predicted'] = 0\n",
    "print(num_neg)\n",
    "# print(results.to_string())\n",
    "\n",
    "MSE = mean_squared_error(y_actual, y_pred_tuned)\n",
    "print(f'Changed MSE: {MSE}')\n",
    "\n",
    "RMSE = math.sqrt(MSE)\n",
    "print(f'Changed RMSE: {RMSE}')\n",
    "\n",
    "MAE = mean_absolute_error(y_actual, y_pred_tuned)\n",
    "print(f'Changed MAE: {MAE}')"
   ]
  },
  {
   "cell_type": "code",
   "execution_count": 22,
   "metadata": {},
   "outputs": [
    {
     "name": "stderr",
     "output_type": "stream",
     "text": [
      "Training: 100% [------------------------------------------------] Time: 0:00:03\n",
      "Training: 100% [------------------------------------------------] Time: 0:00:03\n",
      "Training: 100% [------------------------------------------------] Time: 0:00:03\n",
      "Training: 100% [------------------------------------------------] Time: 0:00:03\n",
      "Training: 100% [------------------------------------------------] Time: 0:00:03\n",
      "Training:   0% [                                               ] ETA:  --:--:--\r"
     ]
    },
    {
     "name": "stdout",
     "output_type": "stream",
     "text": [
      "Baseline Mean Cross-validation Score:  0.13647207233472058\n"
     ]
    },
    {
     "name": "stderr",
     "output_type": "stream",
     "text": [
      "Training: 100% [------------------------------------------------] Time: 0:01:52\n",
      "Training: 100% [------------------------------------------------] Time: 0:01:52\n",
      "Training: 100% [------------------------------------------------] Time: 0:01:59\n",
      "Training: 100% [------------------------------------------------] Time: 0:01:53\n",
      "Training: 100% [------------------------------------------------] Time: 0:02:06\r"
     ]
    },
    {
     "name": "stdout",
     "output_type": "stream",
     "text": [
      "Tuned Mean Cross-validation Score:  0.10959225977388329\n"
     ]
    },
    {
     "name": "stderr",
     "output_type": "stream",
     "text": [
      "\n"
     ]
    }
   ],
   "source": [
    "from sklearn.model_selection import cross_val_score, KFold\n",
    "\n",
    "n_folds = 5\n",
    "\n",
    "kf = KFold(n_splits=n_folds, shuffle=True, random_state=42)\n",
    "\n",
    "base_scores = cross_val_score(scratch_baseline, x_valid_np, y_valid_np, cv=kf)\n",
    "base_mean_score = base_scores.mean()\n",
    "print('Baseline Mean Cross-validation Score: ', base_mean_score)\n",
    "\n",
    "tuned_scores = cross_val_score(scratch_tuned, x_valid_np, y_valid_np, cv=kf)\n",
    "tuned_mean_score = tuned_scores.mean()\n",
    "print('Tuned Mean Cross-validation Score: ', tuned_mean_score)"
   ]
  },
  {
   "cell_type": "code",
   "execution_count": 23,
   "metadata": {},
   "outputs": [
    {
     "name": "stdout",
     "output_type": "stream",
     "text": [
      "Baseline CV standard deviation:  0.06354724516044141\n",
      "Tuned CV standard deviation:  0.07603195404585959\n"
     ]
    }
   ],
   "source": [
    "import statistics\n",
    "\n",
    "print(\"Baseline CV standard deviation: \", statistics.stdev(base_scores))\n",
    "print(\"Tuned CV standard deviation: \", statistics.stdev(tuned_scores))"
   ]
  },
  {
   "cell_type": "code",
   "execution_count": 27,
   "metadata": {},
   "outputs": [
    {
     "name": "stdout",
     "output_type": "stream",
     "text": [
      "Baseline R2 score:  0.2161918043561809\n",
      "Tuned R2 score:  0.22426360998544933\n"
     ]
    }
   ],
   "source": [
    "from sklearn.metrics import r2_score\n",
    "\n",
    "base_r2_score = r2_score(y_actual, y_pred_base)\n",
    "tuned_r2_score = r2_score(y_actual, y_pred_tuned)\n",
    "\n",
    "print('Baseline R2 score: ', base_r2_score)\n",
    "print('Tuned R2 score: ', tuned_r2_score)"
   ]
  }
 ],
 "metadata": {
  "kernelspec": {
   "display_name": "Python 3",
   "language": "python",
   "name": "python3"
  },
  "language_info": {
   "codemirror_mode": {
    "name": "ipython",
    "version": 3
   },
   "file_extension": ".py",
   "mimetype": "text/x-python",
   "name": "python",
   "nbconvert_exporter": "python",
   "pygments_lexer": "ipython3",
   "version": "3.12.1"
  }
 },
 "nbformat": 4,
 "nbformat_minor": 2
}
