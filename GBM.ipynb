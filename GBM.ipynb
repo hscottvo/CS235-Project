{
 "cells": [
  {
   "cell_type": "code",
   "execution_count": 93,
   "metadata": {},
   "outputs": [],
   "source": [
    "import numpy as np \n",
    "import pandas as pd \n",
    "\n",
    "from sklearn.ensemble import GradientBoostingRegressor\n",
    "from sklearn.metrics import mean_squared_error\n",
    "from sklearn.metrics import mean_absolute_error\n",
    "\n",
    "import math"
   ]
  },
  {
   "cell_type": "code",
   "execution_count": 271,
   "metadata": {},
   "outputs": [
    {
     "data": {
      "text/plain": [
       "((6716, 62), (840, 62))"
      ]
     },
     "execution_count": 271,
     "metadata": {},
     "output_type": "execute_result"
    }
   ],
   "source": [
    "df_train = pd.read_csv('train.csv')\n",
    "df_valid = pd.read_csv('validation.csv')\n",
    "# df_test = pd.read_csv('test.csv')"
   ]
  },
  {
   "cell_type": "code",
   "execution_count": 272,
   "metadata": {},
   "outputs": [],
   "source": [
    "var_columns = [c for c in df_train.columns if c not in ['profit_margin']]\n",
    "\n",
    "x_train = df_train.loc[:,var_columns]\n",
    "y_train = df_train.loc[:,'profit_margin']\n",
    "\n",
    "x_valid = df_valid.loc[:,var_columns]\n",
    "y_valid = df_valid.loc[:,'profit_margin']\n"
   ]
  },
  {
   "cell_type": "code",
   "execution_count": 284,
   "metadata": {},
   "outputs": [
    {
     "name": "stdout",
     "output_type": "stream",
     "text": [
      "42\n",
      "Baseline MSE: 0.004530369673540047\n",
      "Baseline RMSE: 0.06730802087077027\n",
      "Baseline MAE: 0.050196899957259754\n"
     ]
    }
   ],
   "source": [
    "# baseline\n",
    "gbModel_baseline = GradientBoostingRegressor(random_state=42)\n",
    "gbModel_baseline.fit(x_train, y_train)\n",
    "y_pred_base = gbModel_baseline.predict(x_valid)\n",
    "\n",
    "y_actual = df_valid['profit_margin'].to_numpy()\n",
    "\n",
    "results = pd.DataFrame({\"predicted\":y_pred_base, \"actual\":y_actual}).sort_values('actual')\n",
    "num_neg = 0\n",
    "for i in results['predicted']:\n",
    "    if i < 0:\n",
    "        num_neg += 1\n",
    "print(num_neg)\n",
    "# print(results.to_string())\n",
    "\n",
    "MSE = mean_squared_error(y_actual, y_pred_base)\n",
    "print(f'Baseline MSE: {MSE}')\n",
    "\n",
    "RMSE = math.sqrt(MSE)\n",
    "print(f'Baseline RMSE: {RMSE}')\n",
    "\n",
    "MAE = mean_absolute_error(y_actual, y_pred_base)\n",
    "print(f'Baseline MAE: {MAE}')"
   ]
  },
  {
   "cell_type": "code",
   "execution_count": 283,
   "metadata": {},
   "outputs": [
    {
     "name": "stdout",
     "output_type": "stream",
     "text": [
      "48\n",
      "Changed MSE: 0.002948401879044686\n",
      "Changed RMSE: 0.054299188567092656\n",
      "Changed MAE: 0.03685989304279326\n"
     ]
    }
   ],
   "source": [
    "# changed\n",
    "gbModel = GradientBoostingRegressor(random_state=42, loss='huber', learning_rate=0.01, n_estimators=2000)\n",
    "gbModel.fit(x_train, y_train)\n",
    "y_pred_changed = gbModel.predict(x_valid)\n",
    "\n",
    "y_actual = df_valid['profit_margin'].to_numpy()\n",
    "\n",
    "results = pd.DataFrame({\"predicted\":y_pred_changed, \"actual\":y_actual}).sort_values('actual')\n",
    "num_neg = 0\n",
    "for i in results['predicted']:\n",
    "    if i < 0:\n",
    "        num_neg += 1\n",
    "print(num_neg)\n",
    "# print(results.to_string())\n",
    "\n",
    "MSE = mean_squared_error(y_actual, y_pred_changed)\n",
    "print(f'Changed MSE: {MSE}')\n",
    "\n",
    "RMSE = math.sqrt(MSE)\n",
    "print(f'Changed RMSE: {RMSE}')\n",
    "\n",
    "MAE = mean_absolute_error(y_actual, y_pred_changed)\n",
    "print(f'Changed MAE: {MAE}')"
   ]
  },
  {
   "cell_type": "code",
   "execution_count": 244,
   "metadata": {},
   "outputs": [
    {
     "name": "stdout",
     "output_type": "stream",
     "text": [
      "           Variable_Name  Importance\n",
      "2                revenue    0.730891\n",
      "1                 budget    0.268547\n",
      "4           vote_average    0.000498\n",
      "3                runtime    0.000015\n",
      "50  original_language_hi    0.000011\n",
      "..                   ...         ...\n",
      "21         overview: war    0.000000\n",
      "35      genres: TV Movie    0.000000\n",
      "25      overview: school    0.000000\n",
      "26   genres: Documentary    0.000000\n",
      "60  original_language_zh    0.000000\n",
      "\n",
      "[61 rows x 2 columns]\n"
     ]
    }
   ],
   "source": [
    "features_importance  = pd.DataFrame({'Variable_Name':var_columns, 'Importance':gbModel.feature_importances_}).sort_values('Importance', ascending=False)\n",
    "\n",
    "print(features_importance)"
   ]
  }
 ],
 "metadata": {
  "kernelspec": {
   "display_name": "Python 3",
   "language": "python",
   "name": "python3"
  },
  "language_info": {
   "codemirror_mode": {
    "name": "ipython",
    "version": 3
   },
   "file_extension": ".py",
   "mimetype": "text/x-python",
   "name": "python",
   "nbconvert_exporter": "python",
   "pygments_lexer": "ipython3",
   "version": "3.11.6"
  }
 },
 "nbformat": 4,
 "nbformat_minor": 2
}
