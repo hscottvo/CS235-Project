{
 "cells": [
  {
   "cell_type": "code",
   "execution_count": 2,
   "metadata": {},
   "outputs": [],
   "source": [
    "import numpy as np\n",
    "import pandas as pd\n",
    "from decision_tree import DecisionTree\n",
    "from sklearn.ensemble import RandomForestRegressor\n",
    "from sklearn.metrics import mean_absolute_error, mean_squared_error\n",
    "from sklearn.model_selection import cross_val_score\n",
    "\n",
    "from random_forest import RandomForest"
   ]
  },
  {
   "cell_type": "markdown",
   "metadata": {},
   "source": [
    "### Read Data\n"
   ]
  },
  {
   "cell_type": "code",
   "execution_count": 3,
   "metadata": {},
   "outputs": [],
   "source": [
    "df = pd.read_csv(\"../train.csv\")\n",
    "val_df = pd.read_csv(\"../validation.csv\")\n",
    "X_train = df.drop(columns=\"profit_margin\")\n",
    "y_train = df[\"profit_margin\"]\n",
    "X_val = val_df.drop(columns=\"profit_margin\")\n",
    "y_val = val_df[\"profit_margin\"]"
   ]
  },
  {
   "cell_type": "markdown",
   "metadata": {},
   "source": [
    "### Set Experimental Parameters\n"
   ]
  },
  {
   "cell_type": "code",
   "execution_count": 4,
   "metadata": {},
   "outputs": [],
   "source": [
    "args = {\"n_estimators\": 10, \"min_samples_split\": 8}"
   ]
  },
  {
   "cell_type": "markdown",
   "metadata": {},
   "source": [
    "### Run K-fold cross-validation with different hyperparameters\n"
   ]
  },
  {
   "cell_type": "code",
   "execution_count": 4,
   "metadata": {},
   "outputs": [
    {
     "name": "stderr",
     "output_type": "stream",
     "text": [
      "100%|██████████| 10/10 [03:17<00:00, 19.79s/it]\n",
      "100%|██████████| 10/10 [02:35<00:00, 15.60s/it]\n",
      "100%|██████████| 10/10 [03:37<00:00, 21.70s/it]\n",
      "100%|██████████| 10/10 [03:03<00:00, 18.39s/it]\n",
      "100%|██████████| 10/10 [02:42<00:00, 16.24s/it]\n"
     ]
    },
    {
     "data": {
      "text/plain": [
       "0.07602653852569197"
      ]
     },
     "execution_count": 4,
     "metadata": {},
     "output_type": "execute_result"
    }
   ],
   "source": [
    "rf = RandomForest()\n",
    "# sklearn_rf.score(X_val, y_val)\n",
    "total_X = pd.concat([X_train, X_val])\n",
    "total_y = pd.concat([y_train, y_val])\n",
    "default_cross_val = cross_val_score(\n",
    "    rf,\n",
    "    total_X,\n",
    "    total_y,\n",
    "    cv=5,\n",
    "    scoring=\"r2\",\n",
    ")\n",
    "default_cross_val.mean()\n",
    "# print(sklearn_rf.score(X_train, y_train), sklearn_rf.score(X_val, y_val))"
   ]
  },
  {
   "cell_type": "code",
   "execution_count": 60,
   "metadata": {},
   "outputs": [
    {
     "name": "stderr",
     "output_type": "stream",
     "text": [
      "100%|██████████| 10/10 [03:28<00:00, 20.83s/it]\n",
      "100%|██████████| 10/10 [02:40<00:00, 16.06s/it]\n",
      "100%|██████████| 10/10 [02:38<00:00, 15.84s/it]\n",
      "100%|██████████| 10/10 [03:51<00:00, 23.16s/it]\n",
      "100%|██████████| 10/10 [02:53<00:00, 17.33s/it]\n"
     ]
    },
    {
     "data": {
      "text/plain": [
       "0.07316911134681348"
      ]
     },
     "execution_count": 60,
     "metadata": {},
     "output_type": "execute_result"
    }
   ],
   "source": [
    "rf = RandomForest(**args)\n",
    "# sklearn_rf.score(X_val, y_val)\n",
    "total_X = pd.concat([X_train, X_val])\n",
    "total_y = pd.concat([y_train, y_val])\n",
    "default_cross_val = cross_val_score(\n",
    "    rf,\n",
    "    total_X,\n",
    "    total_y,\n",
    "    cv=5,\n",
    "    scoring=\"r2\",\n",
    ")\n",
    "default_cross_val.mean()"
   ]
  },
  {
   "cell_type": "markdown",
   "metadata": {},
   "source": [
    "### Run grid search on hyperparameters\n"
   ]
  },
  {
   "cell_type": "code",
   "execution_count": null,
   "metadata": {},
   "outputs": [],
   "source": [
    "results_df = pd.DataFrame(\n",
    "    columns=[\n",
    "        \"max_depth\",\n",
    "        \"n_estimators\",\n",
    "        \"max_features\",\n",
    "        \"min_samples_leaf\",\n",
    "        \"min_samples_split\",\n",
    "    ]\n",
    ")\n",
    "i = 0\n",
    "for max_depth in [3, 5, 10, None]:\n",
    "    for n_estimators in [2, 5, 10]:\n",
    "        for min_samples_leaf in [1, 2, 4]:\n",
    "            for min_samples_split in [2, 5, 8]:\n",
    "                random_forest = RandomForest(\n",
    "                    max_depth=max_depth,\n",
    "                    n_estimators=n_estimators,\n",
    "                    min_samples_leaf=min_samples_leaf,\n",
    "                    min_samples_split=min_samples_split,\n",
    "                )\n",
    "                params_dict = {\n",
    "                    \"max_depth\": max_depth,\n",
    "                    \"n_estimators\": n_estimators,\n",
    "                    \"min_samples_leaf\": min_samples_leaf,\n",
    "                    \"min_samples_split\": min_samples_split,\n",
    "                }\n",
    "                print(\"training with param dict:\\n\", params_dict)\n",
    "                random_forest.fit(X_train, y_train)\n",
    "                y_pred = random_forest.predict(X_val)\n",
    "                rmse = mean_squared_error(y_pred, y_val, squared=False)\n",
    "                mae = mean_absolute_error(y_pred, y_val)\n",
    "                rmse_logged = np.sqrt(mean_squared_error(np.log(y_pred), np.log(y_val)))\n",
    "                mae_logged = mean_absolute_error(np.log(y_pred), np.log(y_val))\n",
    "                new_entry = pd.DataFrame(\n",
    "                    {\n",
    "                        \"max_depth\": max_depth,\n",
    "                        \"n_estimators\": n_estimators,\n",
    "                        \"min_samples_leaf\": min_samples_leaf,\n",
    "                        \"min_samples_split\": min_samples_split,\n",
    "                        \"rmse\": rmse,\n",
    "                        \"rmse_logged\": rmse_logged,\n",
    "                        \"mae\": mae,\n",
    "                        \"mae_logged\": mae_logged,\n",
    "                    },\n",
    "                    index=[i],\n",
    "                )\n",
    "                i += 1\n",
    "                # print(\n",
    "                #     f\"\\tGot results: rmse: {rmse}, rmse_logged: {rmse_logged}, mae: {mae}, mae_logged: {mae_logged}\"\n",
    "                # )\n",
    "                results_df = pd.concat([results_df, new_entry])"
   ]
  },
  {
   "cell_type": "markdown",
   "metadata": {},
   "source": [
    "### Show best performing models\n"
   ]
  },
  {
   "cell_type": "code",
   "execution_count": 65,
   "metadata": {},
   "outputs": [
    {
     "data": {
      "text/html": [
       "<div>\n",
       "<style scoped>\n",
       "    .dataframe tbody tr th:only-of-type {\n",
       "        vertical-align: middle;\n",
       "    }\n",
       "\n",
       "    .dataframe tbody tr th {\n",
       "        vertical-align: top;\n",
       "    }\n",
       "\n",
       "    .dataframe thead th {\n",
       "        text-align: right;\n",
       "    }\n",
       "</style>\n",
       "<table border=\"1\" class=\"dataframe\">\n",
       "  <thead>\n",
       "    <tr style=\"text-align: right;\">\n",
       "      <th></th>\n",
       "      <th>max_depth</th>\n",
       "      <th>n_estimators</th>\n",
       "      <th>max_features</th>\n",
       "      <th>min_samples_leaf</th>\n",
       "      <th>min_samples_split</th>\n",
       "      <th>rmse</th>\n",
       "      <th>rmse_logged</th>\n",
       "      <th>mae</th>\n",
       "      <th>mae_logged</th>\n",
       "    </tr>\n",
       "  </thead>\n",
       "  <tbody>\n",
       "    <tr>\n",
       "      <th>29</th>\n",
       "      <td>5</td>\n",
       "      <td>2</td>\n",
       "      <td>NaN</td>\n",
       "      <td>1</td>\n",
       "      <td>8</td>\n",
       "      <td>0.700332</td>\n",
       "      <td>1.012820</td>\n",
       "      <td>0.588489</td>\n",
       "      <td>0.583753</td>\n",
       "    </tr>\n",
       "    <tr>\n",
       "      <th>33</th>\n",
       "      <td>5</td>\n",
       "      <td>2</td>\n",
       "      <td>NaN</td>\n",
       "      <td>4</td>\n",
       "      <td>2</td>\n",
       "      <td>0.706232</td>\n",
       "      <td>1.018839</td>\n",
       "      <td>0.591683</td>\n",
       "      <td>0.586444</td>\n",
       "    </tr>\n",
       "    <tr>\n",
       "      <th>86</th>\n",
       "      <td>None</td>\n",
       "      <td>2</td>\n",
       "      <td>NaN</td>\n",
       "      <td>2</td>\n",
       "      <td>8</td>\n",
       "      <td>0.708904</td>\n",
       "      <td>1.014272</td>\n",
       "      <td>0.584969</td>\n",
       "      <td>0.579450</td>\n",
       "    </tr>\n",
       "    <tr>\n",
       "      <th>54</th>\n",
       "      <td>10</td>\n",
       "      <td>2</td>\n",
       "      <td>NaN</td>\n",
       "      <td>1</td>\n",
       "      <td>2</td>\n",
       "      <td>0.712547</td>\n",
       "      <td>1.020802</td>\n",
       "      <td>0.598090</td>\n",
       "      <td>0.590215</td>\n",
       "    </tr>\n",
       "    <tr>\n",
       "      <th>68</th>\n",
       "      <td>10</td>\n",
       "      <td>5</td>\n",
       "      <td>NaN</td>\n",
       "      <td>2</td>\n",
       "      <td>8</td>\n",
       "      <td>0.715012</td>\n",
       "      <td>1.022757</td>\n",
       "      <td>0.603112</td>\n",
       "      <td>0.593196</td>\n",
       "    </tr>\n",
       "    <tr>\n",
       "      <th>...</th>\n",
       "      <td>...</td>\n",
       "      <td>...</td>\n",
       "      <td>...</td>\n",
       "      <td>...</td>\n",
       "      <td>...</td>\n",
       "      <td>...</td>\n",
       "      <td>...</td>\n",
       "      <td>...</td>\n",
       "      <td>...</td>\n",
       "    </tr>\n",
       "    <tr>\n",
       "      <th>12</th>\n",
       "      <td>3</td>\n",
       "      <td>5</td>\n",
       "      <td>NaN</td>\n",
       "      <td>2</td>\n",
       "      <td>2</td>\n",
       "      <td>0.754814</td>\n",
       "      <td>1.045324</td>\n",
       "      <td>0.641643</td>\n",
       "      <td>0.618457</td>\n",
       "    </tr>\n",
       "    <tr>\n",
       "      <th>81</th>\n",
       "      <td>None</td>\n",
       "      <td>2</td>\n",
       "      <td>NaN</td>\n",
       "      <td>1</td>\n",
       "      <td>2</td>\n",
       "      <td>0.755301</td>\n",
       "      <td>1.034139</td>\n",
       "      <td>0.626880</td>\n",
       "      <td>0.610618</td>\n",
       "    </tr>\n",
       "    <tr>\n",
       "      <th>62</th>\n",
       "      <td>10</td>\n",
       "      <td>2</td>\n",
       "      <td>NaN</td>\n",
       "      <td>4</td>\n",
       "      <td>8</td>\n",
       "      <td>0.755601</td>\n",
       "      <td>1.047116</td>\n",
       "      <td>0.642294</td>\n",
       "      <td>0.618842</td>\n",
       "    </tr>\n",
       "    <tr>\n",
       "      <th>31</th>\n",
       "      <td>5</td>\n",
       "      <td>2</td>\n",
       "      <td>NaN</td>\n",
       "      <td>2</td>\n",
       "      <td>5</td>\n",
       "      <td>0.756893</td>\n",
       "      <td>1.048821</td>\n",
       "      <td>0.644748</td>\n",
       "      <td>0.620387</td>\n",
       "    </tr>\n",
       "    <tr>\n",
       "      <th>88</th>\n",
       "      <td>None</td>\n",
       "      <td>2</td>\n",
       "      <td>NaN</td>\n",
       "      <td>4</td>\n",
       "      <td>5</td>\n",
       "      <td>0.756922</td>\n",
       "      <td>1.048548</td>\n",
       "      <td>0.645040</td>\n",
       "      <td>0.620576</td>\n",
       "    </tr>\n",
       "  </tbody>\n",
       "</table>\n",
       "<p>108 rows × 9 columns</p>\n",
       "</div>"
      ],
      "text/plain": [
       "   max_depth n_estimators max_features min_samples_leaf min_samples_split  \\\n",
       "29         5            2          NaN                1                 8   \n",
       "33         5            2          NaN                4                 2   \n",
       "86      None            2          NaN                2                 8   \n",
       "54        10            2          NaN                1                 2   \n",
       "68        10            5          NaN                2                 8   \n",
       "..       ...          ...          ...              ...               ...   \n",
       "12         3            5          NaN                2                 2   \n",
       "81      None            2          NaN                1                 2   \n",
       "62        10            2          NaN                4                 8   \n",
       "31         5            2          NaN                2                 5   \n",
       "88      None            2          NaN                4                 5   \n",
       "\n",
       "        rmse  rmse_logged       mae  mae_logged  \n",
       "29  0.700332     1.012820  0.588489    0.583753  \n",
       "33  0.706232     1.018839  0.591683    0.586444  \n",
       "86  0.708904     1.014272  0.584969    0.579450  \n",
       "54  0.712547     1.020802  0.598090    0.590215  \n",
       "68  0.715012     1.022757  0.603112    0.593196  \n",
       "..       ...          ...       ...         ...  \n",
       "12  0.754814     1.045324  0.641643    0.618457  \n",
       "81  0.755301     1.034139  0.626880    0.610618  \n",
       "62  0.755601     1.047116  0.642294    0.618842  \n",
       "31  0.756893     1.048821  0.644748    0.620387  \n",
       "88  0.756922     1.048548  0.645040    0.620576  \n",
       "\n",
       "[108 rows x 9 columns]"
      ]
     },
     "execution_count": 65,
     "metadata": {},
     "output_type": "execute_result"
    }
   ],
   "source": [
    "results_df.sort_values(\"rmse\")"
   ]
  },
  {
   "cell_type": "markdown",
   "metadata": {},
   "source": [
    "### Get SKLearn implementation for comparison\n"
   ]
  },
  {
   "cell_type": "code",
   "execution_count": 57,
   "metadata": {},
   "outputs": [
    {
     "data": {
      "text/plain": [
       "0.3567610745405297"
      ]
     },
     "execution_count": 57,
     "metadata": {},
     "output_type": "execute_result"
    }
   ],
   "source": [
    "sklearn_rf = RandomForestRegressor(**args)\n",
    "total_X = pd.concat([X_train, X_val])\n",
    "total_y = pd.concat([y_train, y_val])\n",
    "default_cross_val = cross_val_score(\n",
    "    sklearn_rf,\n",
    "    total_X,\n",
    "    total_y,\n",
    "    cv=5,\n",
    "    scoring=\"r2\",\n",
    ")\n",
    "default_cross_val.mean()"
   ]
  },
  {
   "cell_type": "code",
   "execution_count": null,
   "metadata": {},
   "outputs": [],
   "source": [
    "y_pred = rf.predict(X_val.values)"
   ]
  },
  {
   "cell_type": "code",
   "execution_count": null,
   "metadata": {},
   "outputs": [],
   "source": [
    "mean_squared_error(y_pred, y_val, squared=False)"
   ]
  },
  {
   "cell_type": "code",
   "execution_count": null,
   "metadata": {},
   "outputs": [],
   "source": [
    "y_pred = sklearn_rf.predict(X_val)\n",
    "mean_squared_error(y_pred, y_val, squared=False)"
   ]
  },
  {
   "cell_type": "markdown",
   "metadata": {},
   "source": [
    "### Read Data\n"
   ]
  },
  {
   "cell_type": "code",
   "execution_count": 12,
   "metadata": {},
   "outputs": [],
   "source": [
    "df = pd.read_csv(\"../test.csv\")\n",
    "X_test = df.drop(columns=\"profit_margin\")\n",
    "y_test = df[\"profit_margin\"]\n",
    "y_pred = rf.predict(X_test)"
   ]
  },
  {
   "cell_type": "markdown",
   "metadata": {},
   "source": [
    "### Fit both implementations, both baseline and tuned for statistical tests\n"
   ]
  },
  {
   "cell_type": "code",
   "execution_count": 6,
   "metadata": {},
   "outputs": [
    {
     "name": "stderr",
     "output_type": "stream",
     "text": [
      "100%|██████████| 2/2 [00:47<00:00, 23.64s/it]\n"
     ]
    },
    {
     "data": {
      "text/plain": [
       "<random_forest.RandomForest at 0x7ff47f22ace0>"
      ]
     },
     "execution_count": 6,
     "metadata": {},
     "output_type": "execute_result"
    }
   ],
   "source": [
    "rf = RandomForest(max_depth=5, n_estimators=2, min_samples_leaf=1, min_samples_split=8)\n",
    "rf.fit(X_train, y_train)"
   ]
  },
  {
   "cell_type": "code",
   "execution_count": 16,
   "metadata": {},
   "outputs": [
    {
     "name": "stdout",
     "output_type": "stream",
     "text": [
      "p-value: 0.4443126273115844\n",
      "t-value: 0.7651312745607628\n",
      "model significantly different from test\n"
     ]
    }
   ],
   "source": [
    "from scipy import stats\n",
    "\n",
    "t_stat, p = stats.ttest_ind(y_pred, y_test)\n",
    "alpha = 0.05\n",
    "print(f\"p-value: {p}\")\n",
    "print(f\"t-value: {t_stat}\")\n",
    "if p > alpha:\n",
    "    print(\"model significantly different from test\")"
   ]
  },
  {
   "cell_type": "code",
   "execution_count": 17,
   "metadata": {},
   "outputs": [
    {
     "name": "stderr",
     "output_type": "stream",
     "text": [
      "100%|██████████| 10/10 [04:03<00:00, 24.36s/it]\n"
     ]
    },
    {
     "data": {
      "text/plain": [
       "<random_forest.RandomForest at 0x7ff47f22aef0>"
      ]
     },
     "execution_count": 17,
     "metadata": {},
     "output_type": "execute_result"
    }
   ],
   "source": [
    "rf = RandomForest()\n",
    "rf.fit(X_train, y_train)"
   ]
  },
  {
   "cell_type": "code",
   "execution_count": 21,
   "metadata": {},
   "outputs": [
    {
     "name": "stdout",
     "output_type": "stream",
     "text": [
      "p-value: 0.5211428309107893\n",
      "t-value: 0.6417343412256528\n",
      "model significantly different from test\n"
     ]
    }
   ],
   "source": [
    "from scipy import stats\n",
    "\n",
    "y_pred = rf.predict(X_test)\n",
    "\n",
    "t_stat, p = stats.ttest_ind(y_pred, y_test)\n",
    "alpha = 0.05\n",
    "print(f\"p-value: {p}\")\n",
    "print(f\"t-value: {t_stat}\")\n",
    "if p > alpha:\n",
    "    print(\"model significantly different from test\")"
   ]
  },
  {
   "cell_type": "code",
   "execution_count": 22,
   "metadata": {},
   "outputs": [
    {
     "name": "stdout",
     "output_type": "stream",
     "text": [
      "p-value: 0.9658733821620628\n",
      "t-value: -0.04279150019356165\n",
      "model significantly different from test\n"
     ]
    }
   ],
   "source": [
    "sklearn_rf = RandomForestRegressor()\n",
    "sklearn_rf.fit(X_train, y_train)\n",
    "y_pred = sklearn_rf.predict(X_test)\n",
    "\n",
    "t_stat, p = stats.ttest_ind(y_pred, y_test)\n",
    "alpha = 0.05\n",
    "print(f\"p-value: {p}\")\n",
    "print(f\"t-value: {t_stat}\")\n",
    "if p > alpha:\n",
    "    print(\"model significantly different from test\")"
   ]
  },
  {
   "cell_type": "code",
   "execution_count": 23,
   "metadata": {},
   "outputs": [
    {
     "name": "stdout",
     "output_type": "stream",
     "text": [
      "p-value: 0.9422270567070601\n",
      "t-value: 0.07248306424289566\n",
      "model significantly different from test\n"
     ]
    }
   ],
   "source": [
    "sklearn_rf = RandomForestRegressor(\n",
    "    n_estimators=10, max_depth=None, min_samples_leaf=1, min_samples_split=8\n",
    ")\n",
    "sklearn_rf.fit(X_train, y_train)\n",
    "y_pred = sklearn_rf.predict(X_test)\n",
    "\n",
    "t_stat, p = stats.ttest_ind(y_pred, y_test)\n",
    "alpha = 0.05\n",
    "print(f\"p-value: {p}\")\n",
    "print(f\"t-value: {t_stat}\")\n",
    "if p > alpha:\n",
    "    print(\"model significantly different from test\")"
   ]
  },
  {
   "cell_type": "code",
   "execution_count": null,
   "metadata": {},
   "outputs": [],
   "source": []
  }
 ],
 "metadata": {
  "kernelspec": {
   "display_name": "venv",
   "language": "python",
   "name": "python3"
  },
  "language_info": {
   "codemirror_mode": {
    "name": "ipython",
    "version": 3
   },
   "file_extension": ".py",
   "mimetype": "text/x-python",
   "name": "python",
   "nbconvert_exporter": "python",
   "pygments_lexer": "ipython3",
   "version": "3.10.12"
  }
 },
 "nbformat": 4,
 "nbformat_minor": 2
}
