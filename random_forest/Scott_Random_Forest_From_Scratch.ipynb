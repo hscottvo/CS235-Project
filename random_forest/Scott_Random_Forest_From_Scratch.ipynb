{
 "cells": [
  {
   "cell_type": "code",
   "execution_count": 2,
   "metadata": {},
   "outputs": [],
   "source": [
    "import numpy as np\n",
    "import pandas as pd\n",
    "from decision_tree import DecisionTree\n",
    "from sklearn.ensemble import RandomForestRegressor\n",
    "from sklearn.metrics import mean_squared_error\n",
    "from sklearn.model_selection import cross_val_score\n",
    "\n",
    "from random_forest import RandomForest"
   ]
  },
  {
   "cell_type": "code",
   "execution_count": 3,
   "metadata": {},
   "outputs": [],
   "source": [
    "df = pd.read_csv(\"../train.csv\")\n",
    "val_df = pd.read_csv(\"../validation.csv\")\n",
    "df.head()\n",
    "X_train = df.drop(columns=\"profit_margin\")\n",
    "y_train = df[\"profit_margin\"]\n",
    "X_val = val_df.drop(columns=\"profit_margin\")\n",
    "y_val = val_df[\"profit_margin\"]"
   ]
  },
  {
   "cell_type": "code",
   "execution_count": 4,
   "metadata": {},
   "outputs": [],
   "source": [
    "args = {\"n_estimators\": 10, \"min_samples_split\": 8}"
   ]
  },
  {
   "cell_type": "code",
   "execution_count": 4,
   "metadata": {},
   "outputs": [
    {
     "name": "stderr",
     "output_type": "stream",
     "text": [
      "100%|██████████| 10/10 [03:17<00:00, 19.79s/it]\n",
      "100%|██████████| 10/10 [02:35<00:00, 15.60s/it]\n",
      "100%|██████████| 10/10 [03:37<00:00, 21.70s/it]\n",
      "100%|██████████| 10/10 [03:03<00:00, 18.39s/it]\n",
      "100%|██████████| 10/10 [02:42<00:00, 16.24s/it]\n"
     ]
    },
    {
     "data": {
      "text/plain": [
       "0.07602653852569197"
      ]
     },
     "execution_count": 4,
     "metadata": {},
     "output_type": "execute_result"
    }
   ],
   "source": [
    "rf = RandomForest()\n",
    "# sklearn_rf.score(X_val, y_val)\n",
    "total_X = pd.concat([X_train, X_val])\n",
    "total_y = pd.concat([y_train, y_val])\n",
    "default_cross_val = cross_val_score(\n",
    "    rf,\n",
    "    total_X,\n",
    "    total_y,\n",
    "    cv=5,\n",
    "    scoring=\"r2\",\n",
    ")\n",
    "default_cross_val.mean()\n",
    "# print(sklearn_rf.score(X_train, y_train), sklearn_rf.score(X_val, y_val))"
   ]
  },
  {
   "cell_type": "code",
   "execution_count": 60,
   "metadata": {},
   "outputs": [
    {
     "name": "stderr",
     "output_type": "stream",
     "text": [
      "100%|██████████| 10/10 [03:28<00:00, 20.83s/it]\n",
      "100%|██████████| 10/10 [02:40<00:00, 16.06s/it]\n",
      "100%|██████████| 10/10 [02:38<00:00, 15.84s/it]\n",
      "100%|██████████| 10/10 [03:51<00:00, 23.16s/it]\n",
      "100%|██████████| 10/10 [02:53<00:00, 17.33s/it]\n"
     ]
    },
    {
     "data": {
      "text/plain": [
       "0.07316911134681348"
      ]
     },
     "execution_count": 60,
     "metadata": {},
     "output_type": "execute_result"
    }
   ],
   "source": [
    "rf = RandomForest(**args)\n",
    "# sklearn_rf.score(X_val, y_val)\n",
    "total_X = pd.concat([X_train, X_val])\n",
    "total_y = pd.concat([y_train, y_val])\n",
    "default_cross_val = cross_val_score(\n",
    "    rf,\n",
    "    total_X,\n",
    "    total_y,\n",
    "    cv=5,\n",
    "    scoring=\"r2\",\n",
    ")\n",
    "default_cross_val.mean()"
   ]
  },
  {
   "cell_type": "code",
   "execution_count": 63,
   "metadata": {},
   "outputs": [
    {
     "name": "stdout",
     "output_type": "stream",
     "text": [
      "training with param dict:\n",
      " {'max_depth': 3, 'n_estimators': 2, 'min_samples_leaf': 1, 'min_samples_split': 2}\n"
     ]
    },
    {
     "name": "stderr",
     "output_type": "stream",
     "text": [
      "100%|██████████| 2/2 [00:36<00:00, 18.13s/it]\n"
     ]
    },
    {
     "name": "stdout",
     "output_type": "stream",
     "text": [
      "\tGot results: rmse: 0.7273572430467662, rmse_logged: 1.0277409551272654, mae: 0.6183575364253843, mae_logged: 0.6034024542104357\n",
      "training with param dict:\n",
      " {'max_depth': 3, 'n_estimators': 2, 'min_samples_leaf': 1, 'min_samples_split': 5}\n"
     ]
    },
    {
     "name": "stderr",
     "output_type": "stream",
     "text": [
      "100%|██████████| 2/2 [00:34<00:00, 17.00s/it]\n"
     ]
    },
    {
     "name": "stdout",
     "output_type": "stream",
     "text": [
      "\tGot results: rmse: 0.7399328448445459, rmse_logged: 1.0369957460316117, mae: 0.6277687566062112, mae_logged: 0.6096556099171238\n",
      "training with param dict:\n",
      " {'max_depth': 3, 'n_estimators': 2, 'min_samples_leaf': 1, 'min_samples_split': 8}\n"
     ]
    },
    {
     "name": "stderr",
     "output_type": "stream",
     "text": [
      "100%|██████████| 2/2 [00:57<00:00, 28.65s/it]\n"
     ]
    },
    {
     "name": "stdout",
     "output_type": "stream",
     "text": [
      "\tGot results: rmse: 0.7295490941171398, rmse_logged: 1.0314939650754968, mae: 0.6136066803196164, mae_logged: 0.6010993522764353\n",
      "training with param dict:\n",
      " {'max_depth': 3, 'n_estimators': 2, 'min_samples_leaf': 2, 'min_samples_split': 2}\n"
     ]
    },
    {
     "name": "stderr",
     "output_type": "stream",
     "text": [
      "100%|██████████| 2/2 [00:34<00:00, 17.39s/it]\n"
     ]
    },
    {
     "name": "stdout",
     "output_type": "stream",
     "text": [
      "\tGot results: rmse: 0.7441145415270405, rmse_logged: 1.038883242736086, mae: 0.6305020091241975, mae_logged: 0.6114543094359915\n",
      "training with param dict:\n",
      " {'max_depth': 3, 'n_estimators': 2, 'min_samples_leaf': 2, 'min_samples_split': 5}\n"
     ]
    },
    {
     "name": "stderr",
     "output_type": "stream",
     "text": [
      "100%|██████████| 2/2 [00:45<00:00, 22.93s/it]\n"
     ]
    },
    {
     "name": "stdout",
     "output_type": "stream",
     "text": [
      "\tGot results: rmse: 0.7385759620709864, rmse_logged: 1.0331697308007335, mae: 0.6196736592332821, mae_logged: 0.6044880298013422\n",
      "training with param dict:\n",
      " {'max_depth': 3, 'n_estimators': 2, 'min_samples_leaf': 2, 'min_samples_split': 8}\n"
     ]
    },
    {
     "name": "stderr",
     "output_type": "stream",
     "text": [
      "100%|██████████| 2/2 [00:43<00:00, 21.65s/it]\n"
     ]
    },
    {
     "name": "stdout",
     "output_type": "stream",
     "text": [
      "\tGot results: rmse: 0.74267083623811, rmse_logged: 1.0326748132707746, mae: 0.6275547605939431, mae_logged: 0.6101011433069005\n",
      "training with param dict:\n",
      " {'max_depth': 3, 'n_estimators': 2, 'min_samples_leaf': 4, 'min_samples_split': 2}\n"
     ]
    },
    {
     "name": "stderr",
     "output_type": "stream",
     "text": [
      "100%|██████████| 2/2 [00:52<00:00, 26.25s/it]\n"
     ]
    },
    {
     "name": "stdout",
     "output_type": "stream",
     "text": [
      "\tGot results: rmse: 0.7309153567073742, rmse_logged: 1.0256486837768197, mae: 0.6107365291940615, mae_logged: 0.5982803610718324\n",
      "training with param dict:\n",
      " {'max_depth': 3, 'n_estimators': 2, 'min_samples_leaf': 4, 'min_samples_split': 5}\n"
     ]
    },
    {
     "name": "stderr",
     "output_type": "stream",
     "text": [
      "100%|██████████| 2/2 [00:53<00:00, 26.62s/it]\n"
     ]
    },
    {
     "name": "stdout",
     "output_type": "stream",
     "text": [
      "\tGot results: rmse: 0.7203255756070119, rmse_logged: 1.0203141757017664, mae: 0.6036074585229434, mae_logged: 0.593466206524841\n",
      "training with param dict:\n",
      " {'max_depth': 3, 'n_estimators': 2, 'min_samples_leaf': 4, 'min_samples_split': 8}\n"
     ]
    },
    {
     "name": "stderr",
     "output_type": "stream",
     "text": [
      "100%|██████████| 2/2 [00:37<00:00, 18.51s/it]\n"
     ]
    },
    {
     "name": "stdout",
     "output_type": "stream",
     "text": [
      "\tGot results: rmse: 0.7261481486952677, rmse_logged: 1.0277666454063503, mae: 0.6150995622956463, mae_logged: 0.6006104268992053\n",
      "training with param dict:\n",
      " {'max_depth': 3, 'n_estimators': 5, 'min_samples_leaf': 1, 'min_samples_split': 2}\n"
     ]
    },
    {
     "name": "stderr",
     "output_type": "stream",
     "text": [
      "100%|██████████| 5/5 [01:53<00:00, 22.65s/it]\n"
     ]
    },
    {
     "name": "stdout",
     "output_type": "stream",
     "text": [
      "\tGot results: rmse: 0.7206735623483057, rmse_logged: 1.0261315093239434, mae: 0.6119342085074683, mae_logged: 0.5991207145465965\n",
      "training with param dict:\n",
      " {'max_depth': 3, 'n_estimators': 5, 'min_samples_leaf': 1, 'min_samples_split': 5}\n"
     ]
    },
    {
     "name": "stderr",
     "output_type": "stream",
     "text": [
      "100%|██████████| 5/5 [01:48<00:00, 21.73s/it]\n"
     ]
    },
    {
     "name": "stdout",
     "output_type": "stream",
     "text": [
      "\tGot results: rmse: 0.7348258664732296, rmse_logged: 1.032837119094156, mae: 0.6205454912821355, mae_logged: 0.6050718245307208\n",
      "training with param dict:\n",
      " {'max_depth': 3, 'n_estimators': 5, 'min_samples_leaf': 1, 'min_samples_split': 8}\n"
     ]
    },
    {
     "name": "stderr",
     "output_type": "stream",
     "text": [
      "100%|██████████| 5/5 [01:16<00:00, 15.24s/it]\n"
     ]
    },
    {
     "name": "stdout",
     "output_type": "stream",
     "text": [
      "\tGot results: rmse: 0.7346883689124577, rmse_logged: 1.0371079431849974, mae: 0.6236210642841364, mae_logged: 0.6065173863669652\n",
      "training with param dict:\n",
      " {'max_depth': 3, 'n_estimators': 5, 'min_samples_leaf': 2, 'min_samples_split': 2}\n"
     ]
    },
    {
     "name": "stderr",
     "output_type": "stream",
     "text": [
      "100%|██████████| 5/5 [01:09<00:00, 13.96s/it]\n"
     ]
    },
    {
     "name": "stdout",
     "output_type": "stream",
     "text": [
      "\tGot results: rmse: 0.7548138482258657, rmse_logged: 1.04532439909724, mae: 0.6416430066558355, mae_logged: 0.6184568436005276\n",
      "training with param dict:\n",
      " {'max_depth': 3, 'n_estimators': 5, 'min_samples_leaf': 2, 'min_samples_split': 5}\n"
     ]
    },
    {
     "name": "stderr",
     "output_type": "stream",
     "text": [
      "100%|██████████| 5/5 [01:10<00:00, 14.09s/it]\n"
     ]
    },
    {
     "name": "stdout",
     "output_type": "stream",
     "text": [
      "\tGot results: rmse: 0.7461662115845559, rmse_logged: 1.0395887119313623, mae: 0.6355169391760934, mae_logged: 0.6143032493392797\n",
      "training with param dict:\n",
      " {'max_depth': 3, 'n_estimators': 5, 'min_samples_leaf': 2, 'min_samples_split': 8}\n"
     ]
    },
    {
     "name": "stderr",
     "output_type": "stream",
     "text": [
      "100%|██████████| 5/5 [01:23<00:00, 16.73s/it]\n"
     ]
    },
    {
     "name": "stdout",
     "output_type": "stream",
     "text": [
      "\tGot results: rmse: 0.7332896510538222, rmse_logged: 1.0370462146813786, mae: 0.6237915944038384, mae_logged: 0.6065627578949091\n",
      "training with param dict:\n",
      " {'max_depth': 3, 'n_estimators': 5, 'min_samples_leaf': 4, 'min_samples_split': 2}\n"
     ]
    },
    {
     "name": "stderr",
     "output_type": "stream",
     "text": [
      "100%|██████████| 5/5 [01:17<00:00, 15.45s/it]\n"
     ]
    },
    {
     "name": "stdout",
     "output_type": "stream",
     "text": [
      "\tGot results: rmse: 0.735247165955424, rmse_logged: 1.0364294724649994, mae: 0.6254117018006172, mae_logged: 0.6077873648549317\n",
      "training with param dict:\n",
      " {'max_depth': 3, 'n_estimators': 5, 'min_samples_leaf': 4, 'min_samples_split': 5}\n"
     ]
    },
    {
     "name": "stderr",
     "output_type": "stream",
     "text": [
      "100%|██████████| 5/5 [01:31<00:00, 18.33s/it]\n"
     ]
    },
    {
     "name": "stdout",
     "output_type": "stream",
     "text": [
      "\tGot results: rmse: 0.7403344587565062, rmse_logged: 1.037507408671372, mae: 0.6260095123227635, mae_logged: 0.6083337498065704\n",
      "training with param dict:\n",
      " {'max_depth': 3, 'n_estimators': 5, 'min_samples_leaf': 4, 'min_samples_split': 8}\n"
     ]
    },
    {
     "name": "stderr",
     "output_type": "stream",
     "text": [
      "100%|██████████| 5/5 [01:19<00:00, 15.85s/it]\n"
     ]
    },
    {
     "name": "stdout",
     "output_type": "stream",
     "text": [
      "\tGot results: rmse: 0.7409539382188469, rmse_logged: 1.0392501283775872, mae: 0.6310154927640002, mae_logged: 0.6114768266714687\n",
      "training with param dict:\n",
      " {'max_depth': 3, 'n_estimators': 10, 'min_samples_leaf': 1, 'min_samples_split': 2}\n"
     ]
    },
    {
     "name": "stderr",
     "output_type": "stream",
     "text": [
      "100%|██████████| 10/10 [03:17<00:00, 19.72s/it]\n"
     ]
    },
    {
     "name": "stdout",
     "output_type": "stream",
     "text": [
      "\tGot results: rmse: 0.7342841086046281, rmse_logged: 1.0336376173820057, mae: 0.6221837320490925, mae_logged: 0.6058236089609067\n",
      "training with param dict:\n",
      " {'max_depth': 3, 'n_estimators': 10, 'min_samples_leaf': 1, 'min_samples_split': 5}\n"
     ]
    },
    {
     "name": "stderr",
     "output_type": "stream",
     "text": [
      "100%|██████████| 10/10 [02:54<00:00, 17.46s/it]\n"
     ]
    },
    {
     "name": "stdout",
     "output_type": "stream",
     "text": [
      "\tGot results: rmse: 0.7382786957771251, rmse_logged: 1.0381189970176667, mae: 0.6281341233434343, mae_logged: 0.609598849532038\n",
      "training with param dict:\n",
      " {'max_depth': 3, 'n_estimators': 10, 'min_samples_leaf': 1, 'min_samples_split': 8}\n"
     ]
    },
    {
     "name": "stderr",
     "output_type": "stream",
     "text": [
      "100%|██████████| 10/10 [02:50<00:00, 17.06s/it]\n"
     ]
    },
    {
     "name": "stdout",
     "output_type": "stream",
     "text": [
      "\tGot results: rmse: 0.7428213622788488, rmse_logged: 1.0370323651628366, mae: 0.6312904765865682, mae_logged: 0.6118930605813302\n",
      "training with param dict:\n",
      " {'max_depth': 3, 'n_estimators': 10, 'min_samples_leaf': 2, 'min_samples_split': 2}\n"
     ]
    },
    {
     "name": "stderr",
     "output_type": "stream",
     "text": [
      "100%|██████████| 10/10 [03:42<00:00, 22.26s/it]\n"
     ]
    },
    {
     "name": "stdout",
     "output_type": "stream",
     "text": [
      "\tGot results: rmse: 0.7253797294218636, rmse_logged: 1.0288760643760149, mae: 0.6139162351390818, mae_logged: 0.6004714937305559\n",
      "training with param dict:\n",
      " {'max_depth': 3, 'n_estimators': 10, 'min_samples_leaf': 2, 'min_samples_split': 5}\n"
     ]
    },
    {
     "name": "stderr",
     "output_type": "stream",
     "text": [
      "100%|██████████| 10/10 [02:49<00:00, 17.00s/it]\n"
     ]
    },
    {
     "name": "stdout",
     "output_type": "stream",
     "text": [
      "\tGot results: rmse: 0.7432412377969676, rmse_logged: 1.0398932584811273, mae: 0.6315710396682122, mae_logged: 0.6120905245515514\n",
      "training with param dict:\n",
      " {'max_depth': 3, 'n_estimators': 10, 'min_samples_leaf': 2, 'min_samples_split': 8}\n"
     ]
    },
    {
     "name": "stderr",
     "output_type": "stream",
     "text": [
      "100%|██████████| 10/10 [03:25<00:00, 20.51s/it]\n"
     ]
    },
    {
     "name": "stdout",
     "output_type": "stream",
     "text": [
      "\tGot results: rmse: 0.7309115029866563, rmse_logged: 1.0315835798892241, mae: 0.6187495806959318, mae_logged: 0.6037695916649878\n",
      "training with param dict:\n",
      " {'max_depth': 3, 'n_estimators': 10, 'min_samples_leaf': 4, 'min_samples_split': 2}\n"
     ]
    },
    {
     "name": "stderr",
     "output_type": "stream",
     "text": [
      "100%|██████████| 10/10 [03:18<00:00, 19.83s/it]\n"
     ]
    },
    {
     "name": "stdout",
     "output_type": "stream",
     "text": [
      "\tGot results: rmse: 0.7330198409440597, rmse_logged: 1.0328575415157248, mae: 0.6212321018366188, mae_logged: 0.605099725554381\n",
      "training with param dict:\n",
      " {'max_depth': 3, 'n_estimators': 10, 'min_samples_leaf': 4, 'min_samples_split': 5}\n"
     ]
    },
    {
     "name": "stderr",
     "output_type": "stream",
     "text": [
      "100%|██████████| 10/10 [02:29<00:00, 14.92s/it]\n"
     ]
    },
    {
     "name": "stdout",
     "output_type": "stream",
     "text": [
      "\tGot results: rmse: 0.7473680618413594, rmse_logged: 1.0399822288435814, mae: 0.6367751130140006, mae_logged: 0.6153637030001577\n",
      "training with param dict:\n",
      " {'max_depth': 3, 'n_estimators': 10, 'min_samples_leaf': 4, 'min_samples_split': 8}\n"
     ]
    },
    {
     "name": "stderr",
     "output_type": "stream",
     "text": [
      "100%|██████████| 10/10 [03:06<00:00, 18.68s/it]\n"
     ]
    },
    {
     "name": "stdout",
     "output_type": "stream",
     "text": [
      "\tGot results: rmse: 0.734626600119984, rmse_logged: 1.0349535050447662, mae: 0.6215465124212727, mae_logged: 0.6054196344132327\n",
      "training with param dict:\n",
      " {'max_depth': 5, 'n_estimators': 2, 'min_samples_leaf': 1, 'min_samples_split': 2}\n"
     ]
    },
    {
     "name": "stderr",
     "output_type": "stream",
     "text": [
      "100%|██████████| 2/2 [00:47<00:00, 23.80s/it]\n"
     ]
    },
    {
     "name": "stdout",
     "output_type": "stream",
     "text": [
      "\tGot results: rmse: 0.7342428214771816, rmse_logged: 1.0284432523219849, mae: 0.6204115112424116, mae_logged: 0.6043399451196158\n",
      "training with param dict:\n",
      " {'max_depth': 5, 'n_estimators': 2, 'min_samples_leaf': 1, 'min_samples_split': 5}\n"
     ]
    },
    {
     "name": "stderr",
     "output_type": "stream",
     "text": [
      "100%|██████████| 2/2 [00:44<00:00, 22.25s/it]\n"
     ]
    },
    {
     "name": "stdout",
     "output_type": "stream",
     "text": [
      "\tGot results: rmse: 0.727212818760719, rmse_logged: 1.0330890790843872, mae: 0.6155891216950266, mae_logged: 0.601738351503883\n",
      "training with param dict:\n",
      " {'max_depth': 5, 'n_estimators': 2, 'min_samples_leaf': 1, 'min_samples_split': 8}\n"
     ]
    },
    {
     "name": "stderr",
     "output_type": "stream",
     "text": [
      "100%|██████████| 2/2 [01:02<00:00, 31.35s/it]\n"
     ]
    },
    {
     "name": "stdout",
     "output_type": "stream",
     "text": [
      "\tGot results: rmse: 0.7003315171637752, rmse_logged: 1.0128196119493649, mae: 0.5884890378641284, mae_logged: 0.583752553890963\n",
      "training with param dict:\n",
      " {'max_depth': 5, 'n_estimators': 2, 'min_samples_leaf': 2, 'min_samples_split': 2}\n"
     ]
    },
    {
     "name": "stderr",
     "output_type": "stream",
     "text": [
      "100%|██████████| 2/2 [00:29<00:00, 14.68s/it]\n"
     ]
    },
    {
     "name": "stdout",
     "output_type": "stream",
     "text": [
      "\tGot results: rmse: 0.7505337707470278, rmse_logged: 1.0437189041373789, mae: 0.6375572244005943, mae_logged: 0.6157587419766404\n",
      "training with param dict:\n",
      " {'max_depth': 5, 'n_estimators': 2, 'min_samples_leaf': 2, 'min_samples_split': 5}\n"
     ]
    },
    {
     "name": "stderr",
     "output_type": "stream",
     "text": [
      "100%|██████████| 2/2 [00:17<00:00,  8.58s/it]\n"
     ]
    },
    {
     "name": "stdout",
     "output_type": "stream",
     "text": [
      "\tGot results: rmse: 0.7568931799539538, rmse_logged: 1.048820511169248, mae: 0.644747835449941, mae_logged: 0.620387017453547\n",
      "training with param dict:\n",
      " {'max_depth': 5, 'n_estimators': 2, 'min_samples_leaf': 2, 'min_samples_split': 8}\n"
     ]
    },
    {
     "name": "stderr",
     "output_type": "stream",
     "text": [
      "100%|██████████| 2/2 [00:45<00:00, 22.79s/it]\n"
     ]
    },
    {
     "name": "stdout",
     "output_type": "stream",
     "text": [
      "\tGot results: rmse: 0.7324465358709084, rmse_logged: 1.0361108502270069, mae: 0.6163280967993349, mae_logged: 0.6021651480375035\n",
      "training with param dict:\n",
      " {'max_depth': 5, 'n_estimators': 2, 'min_samples_leaf': 4, 'min_samples_split': 2}\n"
     ]
    },
    {
     "name": "stderr",
     "output_type": "stream",
     "text": [
      "100%|██████████| 2/2 [00:54<00:00, 27.49s/it]\n"
     ]
    },
    {
     "name": "stdout",
     "output_type": "stream",
     "text": [
      "\tGot results: rmse: 0.7062323302361139, rmse_logged: 1.018838639218467, mae: 0.5916832166764682, mae_logged: 0.5864444423686447\n",
      "training with param dict:\n",
      " {'max_depth': 5, 'n_estimators': 2, 'min_samples_leaf': 4, 'min_samples_split': 5}\n"
     ]
    },
    {
     "name": "stderr",
     "output_type": "stream",
     "text": [
      "100%|██████████| 2/2 [00:46<00:00, 23.23s/it]\n"
     ]
    },
    {
     "name": "stdout",
     "output_type": "stream",
     "text": [
      "\tGot results: rmse: 0.7335047542672215, rmse_logged: 1.03128406330798, mae: 0.6215618743537149, mae_logged: 0.6054438279971888\n",
      "training with param dict:\n",
      " {'max_depth': 5, 'n_estimators': 2, 'min_samples_leaf': 4, 'min_samples_split': 8}\n"
     ]
    },
    {
     "name": "stderr",
     "output_type": "stream",
     "text": [
      "100%|██████████| 2/2 [00:41<00:00, 20.89s/it]\n"
     ]
    },
    {
     "name": "stdout",
     "output_type": "stream",
     "text": [
      "\tGot results: rmse: 0.737189595836837, rmse_logged: 1.0379372541818697, mae: 0.6241373150347753, mae_logged: 0.6076908489190884\n",
      "training with param dict:\n",
      " {'max_depth': 5, 'n_estimators': 5, 'min_samples_leaf': 1, 'min_samples_split': 2}\n"
     ]
    },
    {
     "name": "stderr",
     "output_type": "stream",
     "text": [
      "100%|██████████| 5/5 [01:50<00:00, 22.09s/it]\n"
     ]
    },
    {
     "name": "stdout",
     "output_type": "stream",
     "text": [
      "\tGot results: rmse: 0.740216455734257, rmse_logged: 1.035872417948325, mae: 0.6259024513052633, mae_logged: 0.6083778846141801\n",
      "training with param dict:\n",
      " {'max_depth': 5, 'n_estimators': 5, 'min_samples_leaf': 1, 'min_samples_split': 5}\n"
     ]
    },
    {
     "name": "stderr",
     "output_type": "stream",
     "text": [
      "100%|██████████| 5/5 [02:02<00:00, 24.41s/it]\n"
     ]
    },
    {
     "name": "stdout",
     "output_type": "stream",
     "text": [
      "\tGot results: rmse: 0.7231889489844715, rmse_logged: 1.0267878188759245, mae: 0.612208903989182, mae_logged: 0.5993921607554255\n",
      "training with param dict:\n",
      " {'max_depth': 5, 'n_estimators': 5, 'min_samples_leaf': 1, 'min_samples_split': 8}\n"
     ]
    },
    {
     "name": "stderr",
     "output_type": "stream",
     "text": [
      "100%|██████████| 5/5 [01:30<00:00, 18.06s/it]\n"
     ]
    },
    {
     "name": "stdout",
     "output_type": "stream",
     "text": [
      "\tGot results: rmse: 0.7454094074250202, rmse_logged: 1.0423653292562747, mae: 0.6308320889785819, mae_logged: 0.6114574791201302\n",
      "training with param dict:\n",
      " {'max_depth': 5, 'n_estimators': 5, 'min_samples_leaf': 2, 'min_samples_split': 2}\n"
     ]
    },
    {
     "name": "stderr",
     "output_type": "stream",
     "text": [
      "100%|██████████| 5/5 [01:31<00:00, 18.20s/it]\n"
     ]
    },
    {
     "name": "stdout",
     "output_type": "stream",
     "text": [
      "\tGot results: rmse: 0.738047679449475, rmse_logged: 1.0347251187575184, mae: 0.6254501674492338, mae_logged: 0.6076029465114003\n",
      "training with param dict:\n",
      " {'max_depth': 5, 'n_estimators': 5, 'min_samples_leaf': 2, 'min_samples_split': 5}\n"
     ]
    },
    {
     "name": "stderr",
     "output_type": "stream",
     "text": [
      "100%|██████████| 5/5 [01:54<00:00, 22.96s/it]\n"
     ]
    },
    {
     "name": "stdout",
     "output_type": "stream",
     "text": [
      "\tGot results: rmse: 0.7194250679254354, rmse_logged: 1.0244916999409874, mae: 0.609605258914344, mae_logged: 0.5971852287395701\n",
      "training with param dict:\n",
      " {'max_depth': 5, 'n_estimators': 5, 'min_samples_leaf': 2, 'min_samples_split': 8}\n"
     ]
    },
    {
     "name": "stderr",
     "output_type": "stream",
     "text": [
      "100%|██████████| 5/5 [01:11<00:00, 14.37s/it]\n"
     ]
    },
    {
     "name": "stdout",
     "output_type": "stream",
     "text": [
      "\tGot results: rmse: 0.7383760099485022, rmse_logged: 1.037233613031129, mae: 0.6297093445422449, mae_logged: 0.6104955940122292\n",
      "training with param dict:\n",
      " {'max_depth': 5, 'n_estimators': 5, 'min_samples_leaf': 4, 'min_samples_split': 2}\n"
     ]
    },
    {
     "name": "stderr",
     "output_type": "stream",
     "text": [
      "100%|██████████| 5/5 [02:20<00:00, 28.02s/it]\n"
     ]
    },
    {
     "name": "stdout",
     "output_type": "stream",
     "text": [
      "\tGot results: rmse: 0.7260626465615775, rmse_logged: 1.0274474947332337, mae: 0.61068836737513, mae_logged: 0.5986780159254943\n",
      "training with param dict:\n",
      " {'max_depth': 5, 'n_estimators': 5, 'min_samples_leaf': 4, 'min_samples_split': 5}\n"
     ]
    },
    {
     "name": "stderr",
     "output_type": "stream",
     "text": [
      "100%|██████████| 5/5 [01:33<00:00, 18.67s/it]\n"
     ]
    },
    {
     "name": "stdout",
     "output_type": "stream",
     "text": [
      "\tGot results: rmse: 0.738092337590965, rmse_logged: 1.0385223460196953, mae: 0.6247988143526148, mae_logged: 0.606827170502081\n",
      "training with param dict:\n",
      " {'max_depth': 5, 'n_estimators': 5, 'min_samples_leaf': 4, 'min_samples_split': 8}\n"
     ]
    },
    {
     "name": "stderr",
     "output_type": "stream",
     "text": [
      "100%|██████████| 5/5 [01:42<00:00, 20.55s/it]\n"
     ]
    },
    {
     "name": "stdout",
     "output_type": "stream",
     "text": [
      "\tGot results: rmse: 0.7283541949331018, rmse_logged: 1.030445842963584, mae: 0.6180912729652561, mae_logged: 0.6030396942683723\n",
      "training with param dict:\n",
      " {'max_depth': 5, 'n_estimators': 10, 'min_samples_leaf': 1, 'min_samples_split': 2}\n"
     ]
    },
    {
     "name": "stderr",
     "output_type": "stream",
     "text": [
      "100%|██████████| 10/10 [03:09<00:00, 18.93s/it]\n"
     ]
    },
    {
     "name": "stdout",
     "output_type": "stream",
     "text": [
      "\tGot results: rmse: 0.736387412858573, rmse_logged: 1.0365731411641252, mae: 0.6243230147801007, mae_logged: 0.6070580046452806\n",
      "training with param dict:\n",
      " {'max_depth': 5, 'n_estimators': 10, 'min_samples_leaf': 1, 'min_samples_split': 5}\n"
     ]
    },
    {
     "name": "stderr",
     "output_type": "stream",
     "text": [
      "100%|██████████| 10/10 [03:24<00:00, 20.42s/it]\n"
     ]
    },
    {
     "name": "stdout",
     "output_type": "stream",
     "text": [
      "\tGot results: rmse: 0.734416373327103, rmse_logged: 1.033713319398735, mae: 0.6210812126532087, mae_logged: 0.6051975607200178\n",
      "training with param dict:\n",
      " {'max_depth': 5, 'n_estimators': 10, 'min_samples_leaf': 1, 'min_samples_split': 8}\n"
     ]
    },
    {
     "name": "stderr",
     "output_type": "stream",
     "text": [
      "100%|██████████| 10/10 [04:45<00:00, 28.53s/it]\n"
     ]
    },
    {
     "name": "stdout",
     "output_type": "stream",
     "text": [
      "\tGot results: rmse: 0.7269654201620362, rmse_logged: 1.0277886409548649, mae: 0.6123392501135663, mae_logged: 0.5993803027692929\n",
      "training with param dict:\n",
      " {'max_depth': 5, 'n_estimators': 10, 'min_samples_leaf': 2, 'min_samples_split': 2}\n"
     ]
    },
    {
     "name": "stderr",
     "output_type": "stream",
     "text": [
      "100%|██████████| 10/10 [03:36<00:00, 21.61s/it]\n"
     ]
    },
    {
     "name": "stdout",
     "output_type": "stream",
     "text": [
      "\tGot results: rmse: 0.727316247073769, rmse_logged: 1.0302507333490634, mae: 0.6164143015941194, mae_logged: 0.6020544837546367\n",
      "training with param dict:\n",
      " {'max_depth': 5, 'n_estimators': 10, 'min_samples_leaf': 2, 'min_samples_split': 5}\n"
     ]
    },
    {
     "name": "stderr",
     "output_type": "stream",
     "text": [
      "100%|██████████| 10/10 [04:06<00:00, 24.69s/it]\n"
     ]
    },
    {
     "name": "stdout",
     "output_type": "stream",
     "text": [
      "\tGot results: rmse: 0.7266940708736677, rmse_logged: 1.0297444300231482, mae: 0.6144192761137253, mae_logged: 0.6010211899060403\n",
      "training with param dict:\n",
      " {'max_depth': 5, 'n_estimators': 10, 'min_samples_leaf': 2, 'min_samples_split': 8}\n"
     ]
    },
    {
     "name": "stderr",
     "output_type": "stream",
     "text": [
      "100%|██████████| 10/10 [03:11<00:00, 19.13s/it]\n"
     ]
    },
    {
     "name": "stdout",
     "output_type": "stream",
     "text": [
      "\tGot results: rmse: 0.7328817382520871, rmse_logged: 1.0353058091318965, mae: 0.6217628867872287, mae_logged: 0.6056441318937359\n",
      "training with param dict:\n",
      " {'max_depth': 5, 'n_estimators': 10, 'min_samples_leaf': 4, 'min_samples_split': 2}\n"
     ]
    },
    {
     "name": "stderr",
     "output_type": "stream",
     "text": [
      "100%|██████████| 10/10 [03:45<00:00, 22.55s/it]\n"
     ]
    },
    {
     "name": "stdout",
     "output_type": "stream",
     "text": [
      "\tGot results: rmse: 0.7289897506917637, rmse_logged: 1.0301940333614568, mae: 0.6168130989340398, mae_logged: 0.6026050983221399\n",
      "training with param dict:\n",
      " {'max_depth': 5, 'n_estimators': 10, 'min_samples_leaf': 4, 'min_samples_split': 5}\n"
     ]
    },
    {
     "name": "stderr",
     "output_type": "stream",
     "text": [
      "100%|██████████| 10/10 [02:14<00:00, 13.50s/it]\n"
     ]
    },
    {
     "name": "stdout",
     "output_type": "stream",
     "text": [
      "\tGot results: rmse: 0.7501646852517146, rmse_logged: 1.04502536953244, mae: 0.6378547371838015, mae_logged: 0.6159539914937191\n",
      "training with param dict:\n",
      " {'max_depth': 5, 'n_estimators': 10, 'min_samples_leaf': 4, 'min_samples_split': 8}\n"
     ]
    },
    {
     "name": "stderr",
     "output_type": "stream",
     "text": [
      "100%|██████████| 10/10 [04:04<00:00, 24.43s/it]\n"
     ]
    },
    {
     "name": "stdout",
     "output_type": "stream",
     "text": [
      "\tGot results: rmse: 0.722253944868677, rmse_logged: 1.025953831768224, mae: 0.6108549858966871, mae_logged: 0.5983069215844306\n",
      "training with param dict:\n",
      " {'max_depth': 10, 'n_estimators': 2, 'min_samples_leaf': 1, 'min_samples_split': 2}\n"
     ]
    },
    {
     "name": "stderr",
     "output_type": "stream",
     "text": [
      "100%|██████████| 2/2 [00:55<00:00, 27.93s/it]\n"
     ]
    },
    {
     "name": "stdout",
     "output_type": "stream",
     "text": [
      "\tGot results: rmse: 0.7125472708607516, rmse_logged: 1.0208024862656546, mae: 0.5980897752403186, mae_logged: 0.5902152562977709\n",
      "training with param dict:\n",
      " {'max_depth': 10, 'n_estimators': 2, 'min_samples_leaf': 1, 'min_samples_split': 5}\n"
     ]
    },
    {
     "name": "stderr",
     "output_type": "stream",
     "text": [
      "100%|██████████| 2/2 [01:08<00:00, 34.25s/it]\n"
     ]
    },
    {
     "name": "stdout",
     "output_type": "stream",
     "text": [
      "\tGot results: rmse: 0.7225701005453363, rmse_logged: 1.0257680835176908, mae: 0.6026964133722974, mae_logged: 0.5951376597931969\n",
      "training with param dict:\n",
      " {'max_depth': 10, 'n_estimators': 2, 'min_samples_leaf': 1, 'min_samples_split': 8}\n"
     ]
    },
    {
     "name": "stderr",
     "output_type": "stream",
     "text": [
      "100%|██████████| 2/2 [00:55<00:00, 27.87s/it]\n"
     ]
    },
    {
     "name": "stdout",
     "output_type": "stream",
     "text": [
      "\tGot results: rmse: 0.7218923044609005, rmse_logged: 1.0233914833323103, mae: 0.6046212559555092, mae_logged: 0.593669570746558\n",
      "training with param dict:\n",
      " {'max_depth': 10, 'n_estimators': 2, 'min_samples_leaf': 2, 'min_samples_split': 2}\n"
     ]
    },
    {
     "name": "stderr",
     "output_type": "stream",
     "text": [
      "100%|██████████| 2/2 [00:36<00:00, 18.39s/it]\n"
     ]
    },
    {
     "name": "stdout",
     "output_type": "stream",
     "text": [
      "\tGot results: rmse: 0.7382161740825556, rmse_logged: 1.032212006794502, mae: 0.6192641205110839, mae_logged: 0.6036557151940312\n",
      "training with param dict:\n",
      " {'max_depth': 10, 'n_estimators': 2, 'min_samples_leaf': 2, 'min_samples_split': 5}\n"
     ]
    },
    {
     "name": "stderr",
     "output_type": "stream",
     "text": [
      "100%|██████████| 2/2 [01:12<00:00, 36.28s/it]\n"
     ]
    },
    {
     "name": "stdout",
     "output_type": "stream",
     "text": [
      "\tGot results: rmse: 0.7265160020689259, rmse_logged: 1.0226545299349434, mae: 0.6073583734600675, mae_logged: 0.5980629660193155\n",
      "training with param dict:\n",
      " {'max_depth': 10, 'n_estimators': 2, 'min_samples_leaf': 2, 'min_samples_split': 8}\n"
     ]
    },
    {
     "name": "stderr",
     "output_type": "stream",
     "text": [
      "100%|██████████| 2/2 [00:40<00:00, 20.49s/it]\n"
     ]
    },
    {
     "name": "stdout",
     "output_type": "stream",
     "text": [
      "\tGot results: rmse: 0.7380743496863162, rmse_logged: 1.0352344828337006, mae: 0.6235619153096367, mae_logged: 0.6071523558388096\n",
      "training with param dict:\n",
      " {'max_depth': 10, 'n_estimators': 2, 'min_samples_leaf': 4, 'min_samples_split': 2}\n"
     ]
    },
    {
     "name": "stderr",
     "output_type": "stream",
     "text": [
      "100%|██████████| 2/2 [00:44<00:00, 22.32s/it]\n"
     ]
    },
    {
     "name": "stdout",
     "output_type": "stream",
     "text": [
      "\tGot results: rmse: 0.7431152704459241, rmse_logged: 1.0389202222448612, mae: 0.6228498941545992, mae_logged: 0.6062767403696526\n",
      "training with param dict:\n",
      " {'max_depth': 10, 'n_estimators': 2, 'min_samples_leaf': 4, 'min_samples_split': 5}\n"
     ]
    },
    {
     "name": "stderr",
     "output_type": "stream",
     "text": [
      "100%|██████████| 2/2 [01:00<00:00, 30.48s/it]\n"
     ]
    },
    {
     "name": "stdout",
     "output_type": "stream",
     "text": [
      "\tGot results: rmse: 0.7282000011523089, rmse_logged: 1.0235810327588906, mae: 0.6098401578196979, mae_logged: 0.5990760792145962\n",
      "training with param dict:\n",
      " {'max_depth': 10, 'n_estimators': 2, 'min_samples_leaf': 4, 'min_samples_split': 8}\n"
     ]
    },
    {
     "name": "stderr",
     "output_type": "stream",
     "text": [
      "100%|██████████| 2/2 [00:24<00:00, 12.28s/it]\n"
     ]
    },
    {
     "name": "stdout",
     "output_type": "stream",
     "text": [
      "\tGot results: rmse: 0.7556012264663713, rmse_logged: 1.0471158654553518, mae: 0.6422942545509102, mae_logged: 0.6188419270137105\n",
      "training with param dict:\n",
      " {'max_depth': 10, 'n_estimators': 5, 'min_samples_leaf': 1, 'min_samples_split': 2}\n"
     ]
    },
    {
     "name": "stderr",
     "output_type": "stream",
     "text": [
      "100%|██████████| 5/5 [01:53<00:00, 22.76s/it]\n"
     ]
    },
    {
     "name": "stdout",
     "output_type": "stream",
     "text": [
      "\tGot results: rmse: 0.7354841326893258, rmse_logged: 1.0331765814001195, mae: 0.6216638213984457, mae_logged: 0.6054467194417528\n",
      "training with param dict:\n",
      " {'max_depth': 10, 'n_estimators': 5, 'min_samples_leaf': 1, 'min_samples_split': 5}\n"
     ]
    },
    {
     "name": "stderr",
     "output_type": "stream",
     "text": [
      "100%|██████████| 5/5 [01:26<00:00, 17.23s/it]\n"
     ]
    },
    {
     "name": "stdout",
     "output_type": "stream",
     "text": [
      "\tGot results: rmse: 0.7400178044606321, rmse_logged: 1.0384719173205497, mae: 0.6285278694670473, mae_logged: 0.6099274755548764\n",
      "training with param dict:\n",
      " {'max_depth': 10, 'n_estimators': 5, 'min_samples_leaf': 1, 'min_samples_split': 8}\n"
     ]
    },
    {
     "name": "stderr",
     "output_type": "stream",
     "text": [
      "100%|██████████| 5/5 [02:11<00:00, 26.34s/it]\n"
     ]
    },
    {
     "name": "stdout",
     "output_type": "stream",
     "text": [
      "\tGot results: rmse: 0.7271819553234283, rmse_logged: 1.030625099008141, mae: 0.6120441623217376, mae_logged: 0.5993490336525875\n",
      "training with param dict:\n",
      " {'max_depth': 10, 'n_estimators': 5, 'min_samples_leaf': 2, 'min_samples_split': 2}\n"
     ]
    },
    {
     "name": "stderr",
     "output_type": "stream",
     "text": [
      "100%|██████████| 5/5 [01:22<00:00, 16.44s/it]\n"
     ]
    },
    {
     "name": "stdout",
     "output_type": "stream",
     "text": [
      "\tGot results: rmse: 0.7384633545400295, rmse_logged: 1.0368839490136212, mae: 0.6270115126039432, mae_logged: 0.6084679606909991\n",
      "training with param dict:\n",
      " {'max_depth': 10, 'n_estimators': 5, 'min_samples_leaf': 2, 'min_samples_split': 5}\n"
     ]
    },
    {
     "name": "stderr",
     "output_type": "stream",
     "text": [
      "100%|██████████| 5/5 [02:02<00:00, 24.55s/it]\n"
     ]
    },
    {
     "name": "stdout",
     "output_type": "stream",
     "text": [
      "\tGot results: rmse: 0.7302090196908588, rmse_logged: 1.036490695621964, mae: 0.6137300305531455, mae_logged: 0.6005096033751539\n",
      "training with param dict:\n",
      " {'max_depth': 10, 'n_estimators': 5, 'min_samples_leaf': 2, 'min_samples_split': 8}\n"
     ]
    },
    {
     "name": "stderr",
     "output_type": "stream",
     "text": [
      "100%|██████████| 5/5 [02:17<00:00, 27.55s/it]\n"
     ]
    },
    {
     "name": "stdout",
     "output_type": "stream",
     "text": [
      "\tGot results: rmse: 0.7150118098292385, rmse_logged: 1.0227574902317482, mae: 0.6031119368997464, mae_logged: 0.5931961446391716\n",
      "training with param dict:\n",
      " {'max_depth': 10, 'n_estimators': 5, 'min_samples_leaf': 4, 'min_samples_split': 2}\n"
     ]
    },
    {
     "name": "stderr",
     "output_type": "stream",
     "text": [
      "100%|██████████| 5/5 [01:51<00:00, 22.39s/it]\n"
     ]
    },
    {
     "name": "stdout",
     "output_type": "stream",
     "text": [
      "\tGot results: rmse: 0.7359644894726942, rmse_logged: 1.036108838993735, mae: 0.6219969596817931, mae_logged: 0.605298585903752\n",
      "training with param dict:\n",
      " {'max_depth': 10, 'n_estimators': 5, 'min_samples_leaf': 4, 'min_samples_split': 5}\n"
     ]
    },
    {
     "name": "stderr",
     "output_type": "stream",
     "text": [
      "100%|██████████| 5/5 [02:15<00:00, 27.10s/it]\n"
     ]
    },
    {
     "name": "stdout",
     "output_type": "stream",
     "text": [
      "\tGot results: rmse: 0.732451684548867, rmse_logged: 1.0323515370121221, mae: 0.6176242361226472, mae_logged: 0.6031529956796626\n",
      "training with param dict:\n",
      " {'max_depth': 10, 'n_estimators': 5, 'min_samples_leaf': 4, 'min_samples_split': 8}\n"
     ]
    },
    {
     "name": "stderr",
     "output_type": "stream",
     "text": [
      "100%|██████████| 5/5 [02:18<00:00, 27.71s/it]\n"
     ]
    },
    {
     "name": "stdout",
     "output_type": "stream",
     "text": [
      "\tGot results: rmse: 0.7209452259716943, rmse_logged: 1.026028098528615, mae: 0.608612053581925, mae_logged: 0.5969961976203719\n",
      "training with param dict:\n",
      " {'max_depth': 10, 'n_estimators': 10, 'min_samples_leaf': 1, 'min_samples_split': 2}\n"
     ]
    },
    {
     "name": "stderr",
     "output_type": "stream",
     "text": [
      "100%|██████████| 10/10 [04:30<00:00, 27.00s/it]\n"
     ]
    },
    {
     "name": "stdout",
     "output_type": "stream",
     "text": [
      "\tGot results: rmse: 0.7264281840141938, rmse_logged: 1.0284574507757087, mae: 0.6134954275603953, mae_logged: 0.6001953217746663\n",
      "training with param dict:\n",
      " {'max_depth': 10, 'n_estimators': 10, 'min_samples_leaf': 1, 'min_samples_split': 5}\n"
     ]
    },
    {
     "name": "stderr",
     "output_type": "stream",
     "text": [
      "100%|██████████| 10/10 [03:16<00:00, 19.67s/it]\n"
     ]
    },
    {
     "name": "stdout",
     "output_type": "stream",
     "text": [
      "\tGot results: rmse: 0.7350582724372412, rmse_logged: 1.0339218445568428, mae: 0.6241011695596769, mae_logged: 0.6068156041303706\n",
      "training with param dict:\n",
      " {'max_depth': 10, 'n_estimators': 10, 'min_samples_leaf': 1, 'min_samples_split': 8}\n"
     ]
    },
    {
     "name": "stderr",
     "output_type": "stream",
     "text": [
      "100%|██████████| 10/10 [03:42<00:00, 22.24s/it]\n"
     ]
    },
    {
     "name": "stdout",
     "output_type": "stream",
     "text": [
      "\tGot results: rmse: 0.7297934858097963, rmse_logged: 1.0326504207047285, mae: 0.6178375768723638, mae_logged: 0.60268013514617\n",
      "training with param dict:\n",
      " {'max_depth': 10, 'n_estimators': 10, 'min_samples_leaf': 2, 'min_samples_split': 2}\n"
     ]
    },
    {
     "name": "stderr",
     "output_type": "stream",
     "text": [
      "100%|██████████| 10/10 [04:15<00:00, 25.51s/it]\n"
     ]
    },
    {
     "name": "stdout",
     "output_type": "stream",
     "text": [
      "\tGot results: rmse: 0.7280984920140613, rmse_logged: 1.0308102784117978, mae: 0.6145254628615446, mae_logged: 0.6006328190830303\n",
      "training with param dict:\n",
      " {'max_depth': 10, 'n_estimators': 10, 'min_samples_leaf': 2, 'min_samples_split': 5}\n"
     ]
    },
    {
     "name": "stderr",
     "output_type": "stream",
     "text": [
      "100%|██████████| 10/10 [02:55<00:00, 17.56s/it]\n"
     ]
    },
    {
     "name": "stdout",
     "output_type": "stream",
     "text": [
      "\tGot results: rmse: 0.7388422927998176, rmse_logged: 1.038004682826868, mae: 0.6292632541220538, mae_logged: 0.6102426382664616\n",
      "training with param dict:\n",
      " {'max_depth': 10, 'n_estimators': 10, 'min_samples_leaf': 2, 'min_samples_split': 8}\n"
     ]
    },
    {
     "name": "stderr",
     "output_type": "stream",
     "text": [
      "100%|██████████| 10/10 [03:28<00:00, 20.90s/it]\n"
     ]
    },
    {
     "name": "stdout",
     "output_type": "stream",
     "text": [
      "\tGot results: rmse: 0.7386993598095484, rmse_logged: 1.0359360114612886, mae: 0.6257035870275207, mae_logged: 0.6081197465395696\n",
      "training with param dict:\n",
      " {'max_depth': 10, 'n_estimators': 10, 'min_samples_leaf': 4, 'min_samples_split': 2}\n"
     ]
    },
    {
     "name": "stderr",
     "output_type": "stream",
     "text": [
      "100%|██████████| 10/10 [03:27<00:00, 20.80s/it]\n"
     ]
    },
    {
     "name": "stdout",
     "output_type": "stream",
     "text": [
      "\tGot results: rmse: 0.728955637257379, rmse_logged: 1.0331555075509133, mae: 0.6190547141335767, mae_logged: 0.6036985241294825\n",
      "training with param dict:\n",
      " {'max_depth': 10, 'n_estimators': 10, 'min_samples_leaf': 4, 'min_samples_split': 5}\n"
     ]
    },
    {
     "name": "stderr",
     "output_type": "stream",
     "text": [
      "100%|██████████| 10/10 [03:35<00:00, 21.58s/it]\n"
     ]
    },
    {
     "name": "stdout",
     "output_type": "stream",
     "text": [
      "\tGot results: rmse: 0.7278872041062966, rmse_logged: 1.0312119459432818, mae: 0.6172926371480782, mae_logged: 0.6023210412739701\n",
      "training with param dict:\n",
      " {'max_depth': 10, 'n_estimators': 10, 'min_samples_leaf': 4, 'min_samples_split': 8}\n"
     ]
    },
    {
     "name": "stderr",
     "output_type": "stream",
     "text": [
      "100%|██████████| 10/10 [02:57<00:00, 17.79s/it]\n"
     ]
    },
    {
     "name": "stdout",
     "output_type": "stream",
     "text": [
      "\tGot results: rmse: 0.7369589864234847, rmse_logged: 1.0360085306601783, mae: 0.6275309568723633, mae_logged: 0.6090520373500348\n",
      "training with param dict:\n",
      " {'max_depth': None, 'n_estimators': 2, 'min_samples_leaf': 1, 'min_samples_split': 2}\n"
     ]
    },
    {
     "name": "stderr",
     "output_type": "stream",
     "text": [
      "100%|██████████| 2/2 [01:07<00:00, 33.96s/it]\n"
     ]
    },
    {
     "name": "stdout",
     "output_type": "stream",
     "text": [
      "\tGot results: rmse: 0.7553011870909594, rmse_logged: 1.0341387045281762, mae: 0.6268795199212577, mae_logged: 0.6106184080775904\n",
      "training with param dict:\n",
      " {'max_depth': None, 'n_estimators': 2, 'min_samples_leaf': 1, 'min_samples_split': 5}\n"
     ]
    },
    {
     "name": "stderr",
     "output_type": "stream",
     "text": [
      "100%|██████████| 2/2 [00:50<00:00, 25.48s/it]\n"
     ]
    },
    {
     "name": "stdout",
     "output_type": "stream",
     "text": [
      "\tGot results: rmse: 0.7402972931964923, rmse_logged: 1.0357729190025093, mae: 0.6215533811108306, mae_logged: 0.6064421913647935\n",
      "training with param dict:\n",
      " {'max_depth': None, 'n_estimators': 2, 'min_samples_leaf': 1, 'min_samples_split': 8}\n"
     ]
    },
    {
     "name": "stderr",
     "output_type": "stream",
     "text": [
      "100%|██████████| 2/2 [00:39<00:00, 19.69s/it]\n"
     ]
    },
    {
     "name": "stdout",
     "output_type": "stream",
     "text": [
      "\tGot results: rmse: 0.7427535030036536, rmse_logged: 1.0400957359845255, mae: 0.6279600157141022, mae_logged: 0.6098604085213937\n",
      "training with param dict:\n",
      " {'max_depth': None, 'n_estimators': 2, 'min_samples_leaf': 2, 'min_samples_split': 2}\n"
     ]
    },
    {
     "name": "stderr",
     "output_type": "stream",
     "text": [
      "100%|██████████| 2/2 [01:02<00:00, 31.32s/it]\n"
     ]
    },
    {
     "name": "stdout",
     "output_type": "stream",
     "text": [
      "\tGot results: rmse: 0.7295920821692586, rmse_logged: 1.02269293151621, mae: 0.6091922513008478, mae_logged: 0.5978077490528121\n",
      "training with param dict:\n",
      " {'max_depth': None, 'n_estimators': 2, 'min_samples_leaf': 2, 'min_samples_split': 5}\n"
     ]
    },
    {
     "name": "stderr",
     "output_type": "stream",
     "text": [
      "100%|██████████| 2/2 [00:28<00:00, 14.16s/it]\n"
     ]
    },
    {
     "name": "stdout",
     "output_type": "stream",
     "text": [
      "\tGot results: rmse: 0.748057785151825, rmse_logged: 1.0398192036630145, mae: 0.6364129592309375, mae_logged: 0.614739595916046\n",
      "training with param dict:\n",
      " {'max_depth': None, 'n_estimators': 2, 'min_samples_leaf': 2, 'min_samples_split': 8}\n"
     ]
    },
    {
     "name": "stderr",
     "output_type": "stream",
     "text": [
      "100%|██████████| 2/2 [01:12<00:00, 36.16s/it]\n"
     ]
    },
    {
     "name": "stdout",
     "output_type": "stream",
     "text": [
      "\tGot results: rmse: 0.7089041706821405, rmse_logged: 1.0142719505483284, mae: 0.5849686594990647, mae_logged: 0.5794504536304735\n",
      "training with param dict:\n",
      " {'max_depth': None, 'n_estimators': 2, 'min_samples_leaf': 4, 'min_samples_split': 2}\n"
     ]
    },
    {
     "name": "stderr",
     "output_type": "stream",
     "text": [
      "100%|██████████| 2/2 [00:32<00:00, 16.29s/it]\n"
     ]
    },
    {
     "name": "stdout",
     "output_type": "stream",
     "text": [
      "\tGot results: rmse: 0.7440880748768471, rmse_logged: 1.0374322379672127, mae: 0.6333800221192049, mae_logged: 0.6123368585888966\n",
      "training with param dict:\n",
      " {'max_depth': None, 'n_estimators': 2, 'min_samples_leaf': 4, 'min_samples_split': 5}\n"
     ]
    },
    {
     "name": "stderr",
     "output_type": "stream",
     "text": [
      "100%|██████████| 2/2 [00:17<00:00,  8.52s/it]\n"
     ]
    },
    {
     "name": "stdout",
     "output_type": "stream",
     "text": [
      "\tGot results: rmse: 0.7569215220571127, rmse_logged: 1.0485476761990322, mae: 0.6450403929234783, mae_logged: 0.6205762470209264\n",
      "training with param dict:\n",
      " {'max_depth': None, 'n_estimators': 2, 'min_samples_leaf': 4, 'min_samples_split': 8}\n"
     ]
    },
    {
     "name": "stderr",
     "output_type": "stream",
     "text": [
      "100%|██████████| 2/2 [01:23<00:00, 41.59s/it]\n"
     ]
    },
    {
     "name": "stdout",
     "output_type": "stream",
     "text": [
      "\tGot results: rmse: 0.7151480154424914, rmse_logged: 1.0170874733275008, mae: 0.5937964579929423, mae_logged: 0.5887945433126108\n",
      "training with param dict:\n",
      " {'max_depth': None, 'n_estimators': 5, 'min_samples_leaf': 1, 'min_samples_split': 2}\n"
     ]
    },
    {
     "name": "stderr",
     "output_type": "stream",
     "text": [
      "100%|██████████| 5/5 [02:16<00:00, 27.25s/it]\n"
     ]
    },
    {
     "name": "stdout",
     "output_type": "stream",
     "text": [
      "\tGot results: rmse: 0.7160984674057744, rmse_logged: 1.0247306499873083, mae: 0.602129197043356, mae_logged: 0.5927111310020446\n",
      "training with param dict:\n",
      " {'max_depth': None, 'n_estimators': 5, 'min_samples_leaf': 1, 'min_samples_split': 5}\n"
     ]
    },
    {
     "name": "stderr",
     "output_type": "stream",
     "text": [
      "100%|██████████| 5/5 [01:30<00:00, 18.20s/it]\n"
     ]
    },
    {
     "name": "stdout",
     "output_type": "stream",
     "text": [
      "\tGot results: rmse: 0.7365901653347587, rmse_logged: 1.0356212265343654, mae: 0.6243442598056816, mae_logged: 0.6069396656814453\n",
      "training with param dict:\n",
      " {'max_depth': None, 'n_estimators': 5, 'min_samples_leaf': 1, 'min_samples_split': 8}\n"
     ]
    },
    {
     "name": "stderr",
     "output_type": "stream",
     "text": [
      "100%|██████████| 5/5 [02:00<00:00, 24.00s/it]\n"
     ]
    },
    {
     "name": "stdout",
     "output_type": "stream",
     "text": [
      "\tGot results: rmse: 0.7201870782966651, rmse_logged: 1.0274881081078922, mae: 0.6108946538675442, mae_logged: 0.5982336495020427\n",
      "training with param dict:\n",
      " {'max_depth': None, 'n_estimators': 5, 'min_samples_leaf': 2, 'min_samples_split': 2}\n"
     ]
    },
    {
     "name": "stderr",
     "output_type": "stream",
     "text": [
      "100%|██████████| 5/5 [01:18<00:00, 15.75s/it]\n"
     ]
    },
    {
     "name": "stdout",
     "output_type": "stream",
     "text": [
      "\tGot results: rmse: 0.7525447402869531, rmse_logged: 1.0441385170485498, mae: 0.6400478845788398, mae_logged: 0.6175062756434812\n",
      "training with param dict:\n",
      " {'max_depth': None, 'n_estimators': 5, 'min_samples_leaf': 2, 'min_samples_split': 5}\n"
     ]
    },
    {
     "name": "stderr",
     "output_type": "stream",
     "text": [
      "100%|██████████| 5/5 [02:27<00:00, 29.45s/it]\n"
     ]
    },
    {
     "name": "stdout",
     "output_type": "stream",
     "text": [
      "\tGot results: rmse: 0.7226371732022676, rmse_logged: 1.022767027992376, mae: 0.606231547830898, mae_logged: 0.5946338632334852\n",
      "training with param dict:\n",
      " {'max_depth': None, 'n_estimators': 5, 'min_samples_leaf': 2, 'min_samples_split': 8}\n"
     ]
    },
    {
     "name": "stderr",
     "output_type": "stream",
     "text": [
      "100%|██████████| 5/5 [02:19<00:00, 27.92s/it]\n"
     ]
    },
    {
     "name": "stdout",
     "output_type": "stream",
     "text": [
      "\tGot results: rmse: 0.7297739371711791, rmse_logged: 1.0317286475354877, mae: 0.6143765448612687, mae_logged: 0.6010887913170799\n",
      "training with param dict:\n",
      " {'max_depth': None, 'n_estimators': 5, 'min_samples_leaf': 4, 'min_samples_split': 2}\n"
     ]
    },
    {
     "name": "stderr",
     "output_type": "stream",
     "text": [
      "100%|██████████| 5/5 [01:52<00:00, 22.40s/it]\n"
     ]
    },
    {
     "name": "stdout",
     "output_type": "stream",
     "text": [
      "\tGot results: rmse: 0.7281899554426712, rmse_logged: 1.0304803316964033, mae: 0.6162295956400806, mae_logged: 0.6015992973271796\n",
      "training with param dict:\n",
      " {'max_depth': None, 'n_estimators': 5, 'min_samples_leaf': 4, 'min_samples_split': 5}\n"
     ]
    },
    {
     "name": "stderr",
     "output_type": "stream",
     "text": [
      "100%|██████████| 5/5 [01:21<00:00, 16.33s/it]\n"
     ]
    },
    {
     "name": "stdout",
     "output_type": "stream",
     "text": [
      "\tGot results: rmse: 0.7379176256730572, rmse_logged: 1.0367674952141133, mae: 0.6266129582603706, mae_logged: 0.6084859928920321\n",
      "training with param dict:\n",
      " {'max_depth': None, 'n_estimators': 5, 'min_samples_leaf': 4, 'min_samples_split': 8}\n"
     ]
    },
    {
     "name": "stderr",
     "output_type": "stream",
     "text": [
      "100%|██████████| 5/5 [01:41<00:00, 20.36s/it]\n"
     ]
    },
    {
     "name": "stdout",
     "output_type": "stream",
     "text": [
      "\tGot results: rmse: 0.7251057974470282, rmse_logged: 1.0304214701082337, mae: 0.6163210509272082, mae_logged: 0.6017164411453829\n",
      "training with param dict:\n",
      " {'max_depth': None, 'n_estimators': 10, 'min_samples_leaf': 1, 'min_samples_split': 2}\n"
     ]
    },
    {
     "name": "stderr",
     "output_type": "stream",
     "text": [
      "100%|██████████| 10/10 [03:34<00:00, 21.49s/it]\n"
     ]
    },
    {
     "name": "stdout",
     "output_type": "stream",
     "text": [
      "\tGot results: rmse: 0.7352947864855908, rmse_logged: 1.0355180462509597, mae: 0.624207968569506, mae_logged: 0.606884945704561\n",
      "training with param dict:\n",
      " {'max_depth': None, 'n_estimators': 10, 'min_samples_leaf': 1, 'min_samples_split': 5}\n"
     ]
    },
    {
     "name": "stderr",
     "output_type": "stream",
     "text": [
      "100%|██████████| 10/10 [03:02<00:00, 18.26s/it]\n"
     ]
    },
    {
     "name": "stdout",
     "output_type": "stream",
     "text": [
      "\tGot results: rmse: 0.7411735664947287, rmse_logged: 1.037984460848092, mae: 0.6291680622393195, mae_logged: 0.6100995281863383\n",
      "training with param dict:\n",
      " {'max_depth': None, 'n_estimators': 10, 'min_samples_leaf': 1, 'min_samples_split': 8}\n"
     ]
    },
    {
     "name": "stderr",
     "output_type": "stream",
     "text": [
      "100%|██████████| 10/10 [02:57<00:00, 17.73s/it]\n"
     ]
    },
    {
     "name": "stdout",
     "output_type": "stream",
     "text": [
      "\tGot results: rmse: 0.7394431948673132, rmse_logged: 1.0379780078649823, mae: 0.6287795298028832, mae_logged: 0.6100502821009536\n",
      "training with param dict:\n",
      " {'max_depth': None, 'n_estimators': 10, 'min_samples_leaf': 2, 'min_samples_split': 2}\n"
     ]
    },
    {
     "name": "stderr",
     "output_type": "stream",
     "text": [
      "100%|██████████| 10/10 [03:20<00:00, 20.10s/it]\n"
     ]
    },
    {
     "name": "stdout",
     "output_type": "stream",
     "text": [
      "\tGot results: rmse: 0.7307133594784767, rmse_logged: 1.0303336749173844, mae: 0.6197381028047038, mae_logged: 0.6039412309806446\n",
      "training with param dict:\n",
      " {'max_depth': None, 'n_estimators': 10, 'min_samples_leaf': 2, 'min_samples_split': 5}\n"
     ]
    },
    {
     "name": "stderr",
     "output_type": "stream",
     "text": [
      "100%|██████████| 10/10 [03:30<00:00, 21.10s/it]\n"
     ]
    },
    {
     "name": "stdout",
     "output_type": "stream",
     "text": [
      "\tGot results: rmse: 0.728622645582483, rmse_logged: 1.0339359289798742, mae: 0.6174474535118317, mae_logged: 0.6025597328063472\n",
      "training with param dict:\n",
      " {'max_depth': None, 'n_estimators': 10, 'min_samples_leaf': 2, 'min_samples_split': 8}\n"
     ]
    },
    {
     "name": "stderr",
     "output_type": "stream",
     "text": [
      "100%|██████████| 10/10 [02:55<00:00, 17.60s/it]\n"
     ]
    },
    {
     "name": "stdout",
     "output_type": "stream",
     "text": [
      "\tGot results: rmse: 0.7416726622702844, rmse_logged: 1.040283565603216, mae: 0.6288101456120155, mae_logged: 0.6101522222001502\n",
      "training with param dict:\n",
      " {'max_depth': None, 'n_estimators': 10, 'min_samples_leaf': 4, 'min_samples_split': 2}\n"
     ]
    },
    {
     "name": "stderr",
     "output_type": "stream",
     "text": [
      "100%|██████████| 10/10 [02:45<00:00, 16.53s/it]\n"
     ]
    },
    {
     "name": "stdout",
     "output_type": "stream",
     "text": [
      "\tGot results: rmse: 0.7418517996640536, rmse_logged: 1.039737775894806, mae: 0.6302932239773028, mae_logged: 0.6111256610251077\n",
      "training with param dict:\n",
      " {'max_depth': None, 'n_estimators': 10, 'min_samples_leaf': 4, 'min_samples_split': 5}\n"
     ]
    },
    {
     "name": "stderr",
     "output_type": "stream",
     "text": [
      "100%|██████████| 10/10 [04:05<00:00, 24.56s/it]\n"
     ]
    },
    {
     "name": "stdout",
     "output_type": "stream",
     "text": [
      "\tGot results: rmse: 0.7263169602872424, rmse_logged: 1.0281173839808007, mae: 0.6155024806689778, mae_logged: 0.6014672348934841\n",
      "training with param dict:\n",
      " {'max_depth': None, 'n_estimators': 10, 'min_samples_leaf': 4, 'min_samples_split': 8}\n"
     ]
    },
    {
     "name": "stderr",
     "output_type": "stream",
     "text": [
      "100%|██████████| 10/10 [03:20<00:00, 20.00s/it]"
     ]
    },
    {
     "name": "stdout",
     "output_type": "stream",
     "text": [
      "\tGot results: rmse: 0.7340076006979225, rmse_logged: 1.0352728950864858, mae: 0.6244873196466146, mae_logged: 0.6072730032558155\n"
     ]
    },
    {
     "name": "stderr",
     "output_type": "stream",
     "text": [
      "\n"
     ]
    }
   ],
   "source": [
    "from sklearn.metrics import mean_squared_error, mean_absolute_error\n",
    "\n",
    "results_df = pd.DataFrame(\n",
    "    columns=[\n",
    "        \"max_depth\",\n",
    "        \"n_estimators\",\n",
    "        \"max_features\",\n",
    "        \"min_samples_leaf\",\n",
    "        \"min_samples_split\",\n",
    "    ]\n",
    ")\n",
    "i = 0\n",
    "for max_depth in [3, 5, 10, None]:\n",
    "    for n_estimators in [2, 5, 10]:\n",
    "        for min_samples_leaf in [1, 2, 4]:\n",
    "            for min_samples_split in [2, 5, 8]:\n",
    "                random_forest = RandomForest(\n",
    "                    max_depth=max_depth,\n",
    "                    n_estimators=n_estimators,\n",
    "                    min_samples_leaf=min_samples_leaf,\n",
    "                    min_samples_split=min_samples_split,\n",
    "                )\n",
    "                params_dict = {\n",
    "                    \"max_depth\": max_depth,\n",
    "                    \"n_estimators\": n_estimators,\n",
    "                    \"min_samples_leaf\": min_samples_leaf,\n",
    "                    \"min_samples_split\": min_samples_split,\n",
    "                }\n",
    "                print(\"training with param dict:\\n\", params_dict)\n",
    "                random_forest.fit(X_train, y_train)\n",
    "                y_pred = random_forest.predict(X_val)\n",
    "                rmse = mean_squared_error(y_pred, y_val, squared=False)\n",
    "                mae = mean_absolute_error(y_pred, y_val)\n",
    "                rmse_logged = np.sqrt(mean_squared_error(np.log(y_pred), np.log(y_val)))\n",
    "                mae_logged = mean_absolute_error(np.log(y_pred), np.log(y_val))\n",
    "                new_entry = pd.DataFrame(\n",
    "                    {\n",
    "                        \"max_depth\": max_depth,\n",
    "                        \"n_estimators\": n_estimators,\n",
    "                        \"min_samples_leaf\": min_samples_leaf,\n",
    "                        \"min_samples_split\": min_samples_split,\n",
    "                        \"rmse\": rmse,\n",
    "                        \"rmse_logged\": rmse_logged,\n",
    "                        \"mae\": mae,\n",
    "                        \"mae_logged\": mae_logged,\n",
    "                    },\n",
    "                    index=[i],\n",
    "                )\n",
    "                i += 1\n",
    "                print(\n",
    "                    f\"\\tGot results: rmse: {rmse}, rmse_logged: {rmse_logged}, mae: {mae}, mae_logged: {mae_logged}\"\n",
    "                )\n",
    "                results_df = pd.concat([results_df, new_entry])"
   ]
  },
  {
   "cell_type": "code",
   "execution_count": 65,
   "metadata": {},
   "outputs": [
    {
     "data": {
      "text/html": [
       "<div>\n",
       "<style scoped>\n",
       "    .dataframe tbody tr th:only-of-type {\n",
       "        vertical-align: middle;\n",
       "    }\n",
       "\n",
       "    .dataframe tbody tr th {\n",
       "        vertical-align: top;\n",
       "    }\n",
       "\n",
       "    .dataframe thead th {\n",
       "        text-align: right;\n",
       "    }\n",
       "</style>\n",
       "<table border=\"1\" class=\"dataframe\">\n",
       "  <thead>\n",
       "    <tr style=\"text-align: right;\">\n",
       "      <th></th>\n",
       "      <th>max_depth</th>\n",
       "      <th>n_estimators</th>\n",
       "      <th>max_features</th>\n",
       "      <th>min_samples_leaf</th>\n",
       "      <th>min_samples_split</th>\n",
       "      <th>rmse</th>\n",
       "      <th>rmse_logged</th>\n",
       "      <th>mae</th>\n",
       "      <th>mae_logged</th>\n",
       "    </tr>\n",
       "  </thead>\n",
       "  <tbody>\n",
       "    <tr>\n",
       "      <th>29</th>\n",
       "      <td>5</td>\n",
       "      <td>2</td>\n",
       "      <td>NaN</td>\n",
       "      <td>1</td>\n",
       "      <td>8</td>\n",
       "      <td>0.700332</td>\n",
       "      <td>1.012820</td>\n",
       "      <td>0.588489</td>\n",
       "      <td>0.583753</td>\n",
       "    </tr>\n",
       "    <tr>\n",
       "      <th>33</th>\n",
       "      <td>5</td>\n",
       "      <td>2</td>\n",
       "      <td>NaN</td>\n",
       "      <td>4</td>\n",
       "      <td>2</td>\n",
       "      <td>0.706232</td>\n",
       "      <td>1.018839</td>\n",
       "      <td>0.591683</td>\n",
       "      <td>0.586444</td>\n",
       "    </tr>\n",
       "    <tr>\n",
       "      <th>86</th>\n",
       "      <td>None</td>\n",
       "      <td>2</td>\n",
       "      <td>NaN</td>\n",
       "      <td>2</td>\n",
       "      <td>8</td>\n",
       "      <td>0.708904</td>\n",
       "      <td>1.014272</td>\n",
       "      <td>0.584969</td>\n",
       "      <td>0.579450</td>\n",
       "    </tr>\n",
       "    <tr>\n",
       "      <th>54</th>\n",
       "      <td>10</td>\n",
       "      <td>2</td>\n",
       "      <td>NaN</td>\n",
       "      <td>1</td>\n",
       "      <td>2</td>\n",
       "      <td>0.712547</td>\n",
       "      <td>1.020802</td>\n",
       "      <td>0.598090</td>\n",
       "      <td>0.590215</td>\n",
       "    </tr>\n",
       "    <tr>\n",
       "      <th>68</th>\n",
       "      <td>10</td>\n",
       "      <td>5</td>\n",
       "      <td>NaN</td>\n",
       "      <td>2</td>\n",
       "      <td>8</td>\n",
       "      <td>0.715012</td>\n",
       "      <td>1.022757</td>\n",
       "      <td>0.603112</td>\n",
       "      <td>0.593196</td>\n",
       "    </tr>\n",
       "    <tr>\n",
       "      <th>...</th>\n",
       "      <td>...</td>\n",
       "      <td>...</td>\n",
       "      <td>...</td>\n",
       "      <td>...</td>\n",
       "      <td>...</td>\n",
       "      <td>...</td>\n",
       "      <td>...</td>\n",
       "      <td>...</td>\n",
       "      <td>...</td>\n",
       "    </tr>\n",
       "    <tr>\n",
       "      <th>12</th>\n",
       "      <td>3</td>\n",
       "      <td>5</td>\n",
       "      <td>NaN</td>\n",
       "      <td>2</td>\n",
       "      <td>2</td>\n",
       "      <td>0.754814</td>\n",
       "      <td>1.045324</td>\n",
       "      <td>0.641643</td>\n",
       "      <td>0.618457</td>\n",
       "    </tr>\n",
       "    <tr>\n",
       "      <th>81</th>\n",
       "      <td>None</td>\n",
       "      <td>2</td>\n",
       "      <td>NaN</td>\n",
       "      <td>1</td>\n",
       "      <td>2</td>\n",
       "      <td>0.755301</td>\n",
       "      <td>1.034139</td>\n",
       "      <td>0.626880</td>\n",
       "      <td>0.610618</td>\n",
       "    </tr>\n",
       "    <tr>\n",
       "      <th>62</th>\n",
       "      <td>10</td>\n",
       "      <td>2</td>\n",
       "      <td>NaN</td>\n",
       "      <td>4</td>\n",
       "      <td>8</td>\n",
       "      <td>0.755601</td>\n",
       "      <td>1.047116</td>\n",
       "      <td>0.642294</td>\n",
       "      <td>0.618842</td>\n",
       "    </tr>\n",
       "    <tr>\n",
       "      <th>31</th>\n",
       "      <td>5</td>\n",
       "      <td>2</td>\n",
       "      <td>NaN</td>\n",
       "      <td>2</td>\n",
       "      <td>5</td>\n",
       "      <td>0.756893</td>\n",
       "      <td>1.048821</td>\n",
       "      <td>0.644748</td>\n",
       "      <td>0.620387</td>\n",
       "    </tr>\n",
       "    <tr>\n",
       "      <th>88</th>\n",
       "      <td>None</td>\n",
       "      <td>2</td>\n",
       "      <td>NaN</td>\n",
       "      <td>4</td>\n",
       "      <td>5</td>\n",
       "      <td>0.756922</td>\n",
       "      <td>1.048548</td>\n",
       "      <td>0.645040</td>\n",
       "      <td>0.620576</td>\n",
       "    </tr>\n",
       "  </tbody>\n",
       "</table>\n",
       "<p>108 rows × 9 columns</p>\n",
       "</div>"
      ],
      "text/plain": [
       "   max_depth n_estimators max_features min_samples_leaf min_samples_split  \\\n",
       "29         5            2          NaN                1                 8   \n",
       "33         5            2          NaN                4                 2   \n",
       "86      None            2          NaN                2                 8   \n",
       "54        10            2          NaN                1                 2   \n",
       "68        10            5          NaN                2                 8   \n",
       "..       ...          ...          ...              ...               ...   \n",
       "12         3            5          NaN                2                 2   \n",
       "81      None            2          NaN                1                 2   \n",
       "62        10            2          NaN                4                 8   \n",
       "31         5            2          NaN                2                 5   \n",
       "88      None            2          NaN                4                 5   \n",
       "\n",
       "        rmse  rmse_logged       mae  mae_logged  \n",
       "29  0.700332     1.012820  0.588489    0.583753  \n",
       "33  0.706232     1.018839  0.591683    0.586444  \n",
       "86  0.708904     1.014272  0.584969    0.579450  \n",
       "54  0.712547     1.020802  0.598090    0.590215  \n",
       "68  0.715012     1.022757  0.603112    0.593196  \n",
       "..       ...          ...       ...         ...  \n",
       "12  0.754814     1.045324  0.641643    0.618457  \n",
       "81  0.755301     1.034139  0.626880    0.610618  \n",
       "62  0.755601     1.047116  0.642294    0.618842  \n",
       "31  0.756893     1.048821  0.644748    0.620387  \n",
       "88  0.756922     1.048548  0.645040    0.620576  \n",
       "\n",
       "[108 rows x 9 columns]"
      ]
     },
     "execution_count": 65,
     "metadata": {},
     "output_type": "execute_result"
    }
   ],
   "source": [
    "results_df.sort_values(\"rmse\")"
   ]
  },
  {
   "cell_type": "code",
   "execution_count": 57,
   "metadata": {},
   "outputs": [
    {
     "data": {
      "text/plain": [
       "0.3567610745405297"
      ]
     },
     "execution_count": 57,
     "metadata": {},
     "output_type": "execute_result"
    }
   ],
   "source": [
    "sklearn_rf = RandomForestRegressor(**args)\n",
    "total_X = pd.concat([X_train, X_val])\n",
    "total_y = pd.concat([y_train, y_val])\n",
    "default_cross_val = cross_val_score(\n",
    "    sklearn_rf,\n",
    "    total_X,\n",
    "    total_y,\n",
    "    cv=5,\n",
    "    scoring=\"r2\",\n",
    ")\n",
    "default_cross_val.mean()"
   ]
  },
  {
   "cell_type": "code",
   "execution_count": null,
   "metadata": {},
   "outputs": [],
   "source": [
    "y_pred = rf.predict(X_val.values)"
   ]
  },
  {
   "cell_type": "code",
   "execution_count": null,
   "metadata": {},
   "outputs": [],
   "source": [
    "mean_squared_error(y_pred, y_val, squared=False)"
   ]
  },
  {
   "cell_type": "code",
   "execution_count": null,
   "metadata": {},
   "outputs": [],
   "source": [
    "y_pred = sklearn_rf.predict(X_val)\n",
    "mean_squared_error(y_pred, y_val, squared=False)"
   ]
  },
  {
   "cell_type": "code",
   "execution_count": 12,
   "metadata": {},
   "outputs": [],
   "source": [
    "df = pd.read_csv(\"../test.csv\")\n",
    "X_test = df.drop(columns=\"profit_margin\")\n",
    "y_test = df[\"profit_margin\"]\n",
    "y_pred = rf.predict(X_test)"
   ]
  },
  {
   "cell_type": "code",
   "execution_count": 6,
   "metadata": {},
   "outputs": [
    {
     "name": "stderr",
     "output_type": "stream",
     "text": [
      "100%|██████████| 2/2 [00:47<00:00, 23.64s/it]\n"
     ]
    },
    {
     "data": {
      "text/plain": [
       "<random_forest.RandomForest at 0x7ff47f22ace0>"
      ]
     },
     "execution_count": 6,
     "metadata": {},
     "output_type": "execute_result"
    }
   ],
   "source": [
    "rf = RandomForest(max_depth=5, n_estimators=2, min_samples_leaf=1, min_samples_split=8)\n",
    "rf.fit(X_train, y_train)"
   ]
  },
  {
   "cell_type": "code",
   "execution_count": 16,
   "metadata": {},
   "outputs": [
    {
     "name": "stdout",
     "output_type": "stream",
     "text": [
      "p-value: 0.4443126273115844\n",
      "t-value: 0.7651312745607628\n",
      "model significantly different from test\n"
     ]
    }
   ],
   "source": [
    "from scipy import stats\n",
    "\n",
    "t_stat, p = stats.ttest_ind(y_pred, y_test)\n",
    "alpha = 0.05\n",
    "print(f\"p-value: {p}\")\n",
    "print(f\"t-value: {t_stat}\")\n",
    "if p > alpha:\n",
    "    print(\"model significantly different from test\")"
   ]
  },
  {
   "cell_type": "code",
   "execution_count": 17,
   "metadata": {},
   "outputs": [
    {
     "name": "stderr",
     "output_type": "stream",
     "text": [
      "100%|██████████| 10/10 [04:03<00:00, 24.36s/it]\n"
     ]
    },
    {
     "data": {
      "text/plain": [
       "<random_forest.RandomForest at 0x7ff47f22aef0>"
      ]
     },
     "execution_count": 17,
     "metadata": {},
     "output_type": "execute_result"
    }
   ],
   "source": [
    "rf = RandomForest()\n",
    "rf.fit(X_train, y_train)"
   ]
  },
  {
   "cell_type": "code",
   "execution_count": 21,
   "metadata": {},
   "outputs": [
    {
     "name": "stdout",
     "output_type": "stream",
     "text": [
      "p-value: 0.5211428309107893\n",
      "t-value: 0.6417343412256528\n",
      "model significantly different from test\n"
     ]
    }
   ],
   "source": [
    "from scipy import stats\n",
    "\n",
    "y_pred = rf.predict(X_test)\n",
    "\n",
    "t_stat, p = stats.ttest_ind(y_pred, y_test)\n",
    "alpha = 0.05\n",
    "print(f\"p-value: {p}\")\n",
    "print(f\"t-value: {t_stat}\")\n",
    "if p > alpha:\n",
    "    print(\"model significantly different from test\")"
   ]
  },
  {
   "cell_type": "code",
   "execution_count": 22,
   "metadata": {},
   "outputs": [
    {
     "name": "stdout",
     "output_type": "stream",
     "text": [
      "p-value: 0.9658733821620628\n",
      "t-value: -0.04279150019356165\n",
      "model significantly different from test\n"
     ]
    }
   ],
   "source": [
    "sklearn_rf = RandomForestRegressor()\n",
    "sklearn_rf.fit(X_train, y_train)\n",
    "y_pred = sklearn_rf.predict(X_test)\n",
    "\n",
    "t_stat, p = stats.ttest_ind(y_pred, y_test)\n",
    "alpha = 0.05\n",
    "print(f\"p-value: {p}\")\n",
    "print(f\"t-value: {t_stat}\")\n",
    "if p > alpha:\n",
    "    print(\"model significantly different from test\")"
   ]
  },
  {
   "cell_type": "code",
   "execution_count": 23,
   "metadata": {},
   "outputs": [
    {
     "name": "stdout",
     "output_type": "stream",
     "text": [
      "p-value: 0.9422270567070601\n",
      "t-value: 0.07248306424289566\n",
      "model significantly different from test\n"
     ]
    }
   ],
   "source": [
    "sklearn_rf = RandomForestRegressor(\n",
    "    n_estimators=10, max_depth=None, min_samples_leaf=1, min_samples_split=8\n",
    ")\n",
    "sklearn_rf.fit(X_train, y_train)\n",
    "y_pred = sklearn_rf.predict(X_test)\n",
    "\n",
    "t_stat, p = stats.ttest_ind(y_pred, y_test)\n",
    "alpha = 0.05\n",
    "print(f\"p-value: {p}\")\n",
    "print(f\"t-value: {t_stat}\")\n",
    "if p > alpha:\n",
    "    print(\"model significantly different from test\")"
   ]
  },
  {
   "cell_type": "code",
   "execution_count": null,
   "metadata": {},
   "outputs": [],
   "source": []
  }
 ],
 "metadata": {
  "kernelspec": {
   "display_name": "venv",
   "language": "python",
   "name": "python3"
  },
  "language_info": {
   "codemirror_mode": {
    "name": "ipython",
    "version": 3
   },
   "file_extension": ".py",
   "mimetype": "text/x-python",
   "name": "python",
   "nbconvert_exporter": "python",
   "pygments_lexer": "ipython3",
   "version": "3.10.12"
  }
 },
 "nbformat": 4,
 "nbformat_minor": 2
}
